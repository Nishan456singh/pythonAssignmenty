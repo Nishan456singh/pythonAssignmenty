{
 "cells": [
  {
   "cell_type": "code",
   "execution_count": 1,
   "id": "ac3d81ce-cbad-439c-b4f4-af1e6e47505e",
   "metadata": {},
   "outputs": [],
   "source": [
    "#Write a Python program to print numbers from 1 to 10 using a for loop."
   ]
  },
  {
   "cell_type": "code",
   "execution_count": 2,
   "id": "530770ac-c075-47ee-8d56-528b616c8f9e",
   "metadata": {},
   "outputs": [
    {
     "name": "stdout",
     "output_type": "stream",
     "text": [
      "1\n",
      "2\n",
      "3\n",
      "4\n",
      "5\n",
      "6\n",
      "7\n",
      "8\n",
      "9\n",
      "10\n"
     ]
    }
   ],
   "source": [
    "for num in range(1, 11):\n",
    "    print(num)"
   ]
  },
  {
   "cell_type": "code",
   "execution_count": 3,
   "id": "b862f1da-b4d5-46bf-9659-dc99a63fa009",
   "metadata": {},
   "outputs": [],
   "source": [
    "#Explain the difference between a for loop and a while loop in Python."
   ]
  },
  {
   "cell_type": "code",
   "execution_count": 5,
   "id": "66b0d0e9-f4ec-4e27-82a8-58fc75c69575",
   "metadata": {},
   "outputs": [],
   "source": [
    "#For Loop Example:\n",
    "# Printing numbers from 1 to 5 using a for loop\n",
    "#for i in range(1, 6):\n",
    "#   print(i)\n",
    "\n",
    "#While Loop Example:\n",
    "# Printing numbers from 1 to 5 using a while loop\n",
    "#i = 1\n",
    "#while i <= 5:\n",
    "#    print(i)\n",
    "#    i += 1"
   ]
  },
  {
   "cell_type": "code",
   "execution_count": 6,
   "id": "7ef33b99-a9cd-42d8-ab82-b7e7a4c17633",
   "metadata": {},
   "outputs": [],
   "source": [
    "#Write a Python program to calculate the sum of all numbers from 1 to 100 using a for loop"
   ]
  },
  {
   "cell_type": "code",
   "execution_count": 7,
   "id": "d013ae28-5ad3-4364-bf92-d2793e49ef52",
   "metadata": {},
   "outputs": [
    {
     "name": "stdout",
     "output_type": "stream",
     "text": [
      "Sum: 5050\n"
     ]
    }
   ],
   "source": [
    "sum = 0\n",
    "for num in range(1, 101):\n",
    "    sum += num\n",
    "print(\"Sum:\", sum)"
   ]
  },
  {
   "cell_type": "code",
   "execution_count": 8,
   "id": "eaaf4aaf-3381-4204-8dc7-0fa61de9e75f",
   "metadata": {},
   "outputs": [],
   "source": [
    "#How do you iterate through a list using a for loop in Python?"
   ]
  },
  {
   "cell_type": "code",
   "execution_count": 9,
   "id": "a04e47e6-27d7-4a99-b232-d1ced7c408ca",
   "metadata": {},
   "outputs": [
    {
     "name": "stdout",
     "output_type": "stream",
     "text": [
      "1\n",
      "2\n",
      "3\n",
      "4\n",
      "5\n"
     ]
    }
   ],
   "source": [
    "my_list = [1, 2, 3, 4, 5]\n",
    "for item in my_list:\n",
    "    print(item)"
   ]
  },
  {
   "cell_type": "code",
   "execution_count": 10,
   "id": "4f85f406-a8a4-49fc-83e0-cab6b4a63974",
   "metadata": {},
   "outputs": [],
   "source": [
    "#Write a Python program to find the product of all elements in a list using a for loop."
   ]
  },
  {
   "cell_type": "code",
   "execution_count": 11,
   "id": "47f5ea1f-d207-44c4-bfec-1d97fa5b2c07",
   "metadata": {},
   "outputs": [
    {
     "name": "stdout",
     "output_type": "stream",
     "text": [
      "Product: 120\n"
     ]
    }
   ],
   "source": [
    "my_list = [1, 2, 3, 4, 5]\n",
    "product = 1\n",
    "for num in my_list:\n",
    "    product *= num\n",
    "print(\"Product:\", product)"
   ]
  },
  {
   "cell_type": "code",
   "execution_count": 12,
   "id": "f1a2e321-9f36-407b-b6a3-5eb758f2488f",
   "metadata": {},
   "outputs": [],
   "source": [
    "#Create a Python program that prints all even numbers from 1 to 20 using a for loop."
   ]
  },
  {
   "cell_type": "code",
   "execution_count": 13,
   "id": "514968ac-512b-4d30-9010-d82ce527df80",
   "metadata": {},
   "outputs": [
    {
     "name": "stdout",
     "output_type": "stream",
     "text": [
      "2\n",
      "4\n",
      "6\n",
      "8\n",
      "10\n",
      "12\n",
      "14\n",
      "16\n",
      "18\n",
      "20\n"
     ]
    }
   ],
   "source": [
    "for num in range(2, 21, 2):\n",
    "    print(num)"
   ]
  },
  {
   "cell_type": "code",
   "execution_count": 14,
   "id": "7a4d2633-aeb0-4e0c-a5b7-0b025d980acf",
   "metadata": {},
   "outputs": [],
   "source": [
    "#Write a Python program that calculates the factorial of a number using a for loop."
   ]
  },
  {
   "cell_type": "code",
   "execution_count": 15,
   "id": "380a8607-5ab3-47a2-a68f-ac107413f42b",
   "metadata": {},
   "outputs": [
    {
     "name": "stdin",
     "output_type": "stream",
     "text": [
      "Enter a number:  356\n"
     ]
    },
    {
     "name": "stdout",
     "output_type": "stream",
     "text": [
      "Factorial: 241146140004960093651568478844146974614450337587792932162475600589638523655750269344638807636341067524466128303383440900195245785265672541993712919506877122056577153725764358392367622568404859582105558517480538296940314784143993137246472225000044999539208307525688987348094484633300776540725754755233782399491288103790246067822363713602299615074844053944905570444324676204208872514018781497052444805636763715613447847001936164545266342413239693992843151257849347984792371001953038447349919424411389740421623555418395426088517410420988499108957234036071620644909674991635918110808085065486155320381538113620507028221629365492216977319573669860570632162817005461054685184000000000000000000000000000000000000000000000000000000000000000000000000000000000000000\n"
     ]
    }
   ],
   "source": [
    "num = int(input(\"Enter a number: \"))\n",
    "factorial = 1\n",
    "for i in range(1, num + 1):\n",
    "    factorial *= i\n",
    "print(\"Factorial:\", factorial)"
   ]
  },
  {
   "cell_type": "code",
   "execution_count": 16,
   "id": "f6e473e1-3ceb-45f5-8c70-e0d920e3f304",
   "metadata": {},
   "outputs": [],
   "source": [
    "#How can you iterate through the characters of a string using a for loop in Python?"
   ]
  },
  {
   "cell_type": "code",
   "execution_count": 17,
   "id": "31ebb3aa-804f-44cc-aaed-9ecbbca9cfbf",
   "metadata": {},
   "outputs": [
    {
     "name": "stdout",
     "output_type": "stream",
     "text": [
      "H\n",
      "e\n",
      "l\n",
      "l\n",
      "o\n"
     ]
    }
   ],
   "source": [
    "my_string = \"Hello\"\n",
    "for char in my_string:\n",
    "    print(char)"
   ]
  },
  {
   "cell_type": "code",
   "execution_count": 18,
   "id": "a0cd4b43-ae36-443d-9d52-8567999e6a0d",
   "metadata": {},
   "outputs": [],
   "source": [
    "#Write a Python program to find the largest number in a list using a for loop."
   ]
  },
  {
   "cell_type": "code",
   "execution_count": 19,
   "id": "3983b915-8c6b-4e48-81bc-3fa6a17cdb06",
   "metadata": {},
   "outputs": [
    {
     "name": "stdout",
     "output_type": "stream",
     "text": [
      "Largest number: 20\n"
     ]
    }
   ],
   "source": [
    "my_list = [10, 5, 20, 8, 15]\n",
    "max_num = my_list[0]\n",
    "for num in my_list:\n",
    "    if num > max_num:\n",
    "        max_num = num\n",
    "print(\"Largest number:\", max_num)"
   ]
  },
  {
   "cell_type": "code",
   "execution_count": 20,
   "id": "4f1c664f-c2ec-4799-8909-bf9ef0f7821f",
   "metadata": {},
   "outputs": [],
   "source": [
    "#Create a Python program that prints the Fibonacci sequence up to a specified limit using a for loop."
   ]
  },
  {
   "cell_type": "code",
   "execution_count": 21,
   "id": "15dda30c-4d20-49aa-9a34-f52d76adae89",
   "metadata": {},
   "outputs": [
    {
     "name": "stdin",
     "output_type": "stream",
     "text": [
      "Enter the limit:  3367\n"
     ]
    },
    {
     "name": "stdout",
     "output_type": "stream",
     "text": [
      "Fibonacci sequence: [0, 1, 1, 2, 3, 5, 8, 13, 21, 34, 55, 89, 144, 233, 377, 610, 987, 1597, 2584]\n"
     ]
    }
   ],
   "source": [
    "limit = int(input(\"Enter the limit: \"))\n",
    "fibonacci_seq = [0, 1]\n",
    "for i in range(2, limit):\n",
    "    next_num = fibonacci_seq[i-1] + fibonacci_seq[i-2]\n",
    "    if next_num > limit:\n",
    "        break\n",
    "    fibonacci_seq.append(next_num)\n",
    "print(\"Fibonacci sequence:\", fibonacci_seq)"
   ]
  },
  {
   "cell_type": "code",
   "execution_count": 22,
   "id": "829a6f27-a1f1-4bbb-b24c-244e9de7c3ea",
   "metadata": {},
   "outputs": [],
   "source": [
    "#Write a Python program to count the number of vowels in a given string using a for loop."
   ]
  },
  {
   "cell_type": "code",
   "execution_count": 23,
   "id": "1662bf43-fe0c-4fd7-8f3a-853869dca8cc",
   "metadata": {},
   "outputs": [
    {
     "name": "stdout",
     "output_type": "stream",
     "text": [
      "Number of vowels: 3\n"
     ]
    }
   ],
   "source": [
    "my_string = \"Hello, World!\"\n",
    "vowels = 'aeiou'\n",
    "count = 0\n",
    "for char in my_string:\n",
    "    if char.lower() in vowels:\n",
    "        count += 1\n",
    "print(\"Number of vowels:\", count)"
   ]
  },
  {
   "cell_type": "code",
   "execution_count": 24,
   "id": "c54d50e7-f703-45c3-95c2-8af55c6d35e5",
   "metadata": {},
   "outputs": [],
   "source": [
    "#Create a Python program that generates a multiplication table for a given number using a for loop."
   ]
  },
  {
   "cell_type": "code",
   "execution_count": 25,
   "id": "8197a797-ca0b-4824-a416-bdfc4e222497",
   "metadata": {},
   "outputs": [
    {
     "name": "stdin",
     "output_type": "stream",
     "text": [
      "Enter a number:  789\n"
     ]
    },
    {
     "name": "stdout",
     "output_type": "stream",
     "text": [
      "789 x 1 = 789\n",
      "789 x 2 = 1578\n",
      "789 x 3 = 2367\n",
      "789 x 4 = 3156\n",
      "789 x 5 = 3945\n",
      "789 x 6 = 4734\n",
      "789 x 7 = 5523\n",
      "789 x 8 = 6312\n",
      "789 x 9 = 7101\n",
      "789 x 10 = 7890\n"
     ]
    }
   ],
   "source": [
    "num = int(input(\"Enter a number: \"))\n",
    "for i in range(1, 11):\n",
    "    print(num, \"x\", i, \"=\", num * i)"
   ]
  },
  {
   "cell_type": "code",
   "execution_count": 26,
   "id": "f5d1f3e9-1aa5-43a6-9ffe-1386806f311f",
   "metadata": {},
   "outputs": [],
   "source": [
    "#Write a Python program to reverse a list using a for loop."
   ]
  },
  {
   "cell_type": "code",
   "execution_count": 27,
   "id": "cd02c136-1a5b-445a-9a3e-b51f1a920414",
   "metadata": {},
   "outputs": [
    {
     "name": "stdout",
     "output_type": "stream",
     "text": [
      "Reversed list: [5, 4, 3, 2, 1]\n"
     ]
    }
   ],
   "source": [
    "my_list = [1, 2, 3, 4, 5]\n",
    "reversed_list = []\n",
    "for i in range(len(my_list)-1, -1, -1):\n",
    "    reversed_list.append(my_list[i])\n",
    "print(\"Reversed list:\", reversed_list)"
   ]
  },
  {
   "cell_type": "code",
   "execution_count": 28,
   "id": "11f6cd1e-7ab1-4441-a214-16cefc6b4e61",
   "metadata": {},
   "outputs": [],
   "source": [
    "#Write a Python program to find the common elements between two lists using a for loop."
   ]
  },
  {
   "cell_type": "code",
   "execution_count": 29,
   "id": "a6c9c1e1-8f61-4187-b6d8-94015d7383ba",
   "metadata": {},
   "outputs": [
    {
     "name": "stdout",
     "output_type": "stream",
     "text": [
      "Common elements: [4, 5]\n"
     ]
    }
   ],
   "source": [
    "list1 = [1, 2, 3, 4, 5]\n",
    "list2 = [4, 5, 6, 7, 8]\n",
    "common_elements = []\n",
    "for item in list1:\n",
    "    if item in list2:\n",
    "        common_elements.append(item)\n",
    "print(\"Common elements:\", common_elements)"
   ]
  },
  {
   "cell_type": "code",
   "execution_count": 30,
   "id": "2ea2447a-34ba-44c3-85d7-a9c7edacba16",
   "metadata": {},
   "outputs": [],
   "source": [
    "#Explain how to use a for loop to iterate through the keys and values of a dictionary in Python."
   ]
  },
  {
   "cell_type": "code",
   "execution_count": 31,
   "id": "b3a98d69-2db4-4313-bdee-53a50ef98083",
   "metadata": {},
   "outputs": [
    {
     "name": "stdout",
     "output_type": "stream",
     "text": [
      "a = 1\n",
      "b = 2\n",
      "c = 3\n"
     ]
    }
   ],
   "source": [
    "my_dict = {'a': 1, 'b': 2, 'c': 3}\n",
    "for key, value in my_dict.items():\n",
    "    print(key, \"=\", value)"
   ]
  },
  {
   "cell_type": "code",
   "execution_count": 32,
   "id": "056e20ce-e091-40b8-828b-4b829c81685d",
   "metadata": {},
   "outputs": [],
   "source": [
    "#Write a Python program to find the GCD (Greatest Common Divisor) of two numbers using a for loop."
   ]
  },
  {
   "cell_type": "code",
   "execution_count": 33,
   "id": "f823718b-eeae-4b4f-95de-6abb71263f9f",
   "metadata": {},
   "outputs": [
    {
     "name": "stdin",
     "output_type": "stream",
     "text": [
      "Enter the first number:  45\n",
      "Enter the second number:  57\n"
     ]
    },
    {
     "name": "stdout",
     "output_type": "stream",
     "text": [
      "GCD: 3\n"
     ]
    }
   ],
   "source": [
    "num1 = int(input(\"Enter the first number: \"))\n",
    "num2 = int(input(\"Enter the second number: \"))\n",
    "\n",
    "if num1 > num2:\n",
    "    smaller = num2\n",
    "else:\n",
    "    smaller = num1\n",
    "\n",
    "for i in range(1, smaller + 1):\n",
    "    if num1 % i == 0 and num2 % i == 0:\n",
    "        gcd = i\n",
    "\n",
    "print(\"GCD:\", gcd)"
   ]
  },
  {
   "cell_type": "code",
   "execution_count": 34,
   "id": "4d4bcbaf-7bef-4d71-873a-5fd2a1cd5d4e",
   "metadata": {},
   "outputs": [],
   "source": [
    "#Create a Python program that checks if a string is a palindrome using a for loop."
   ]
  },
  {
   "cell_type": "code",
   "execution_count": 35,
   "id": "e1a859af-f4b9-49e2-97a8-5213040532be",
   "metadata": {},
   "outputs": [
    {
     "name": "stdin",
     "output_type": "stream",
     "text": [
      "Enter a string:  nishan\n"
     ]
    },
    {
     "name": "stdout",
     "output_type": "stream",
     "text": [
      "Not a palindrome\n"
     ]
    }
   ],
   "source": [
    "my_string = input(\"Enter a string: \")\n",
    "reversed_string = ''\n",
    "for char in my_string:\n",
    "    reversed_string = char + reversed_string\n",
    "\n",
    "if my_string == reversed_string:\n",
    "    print(\"Palindrome\")\n",
    "else:\n",
    "    print(\"Not a palindrome\")"
   ]
  },
  {
   "cell_type": "code",
   "execution_count": 36,
   "id": "05ad9f77-64eb-4148-99cb-6dfbf5dc3e70",
   "metadata": {},
   "outputs": [],
   "source": [
    "#Write a Python program to remove duplicates from a list using a for loop."
   ]
  },
  {
   "cell_type": "code",
   "execution_count": 37,
   "id": "49a438a0-9108-4c88-8b56-995e3a70bd25",
   "metadata": {},
   "outputs": [
    {
     "name": "stdout",
     "output_type": "stream",
     "text": [
      "List with duplicates removed: [1, 2, 3, 4, 5]\n"
     ]
    }
   ],
   "source": [
    "my_list = [1, 2, 2, 3, 4, 4, 5, 5]\n",
    "unique_list = []\n",
    "for num in my_list:\n",
    "    if num not in unique_list:\n",
    "        unique_list.append(num)\n",
    "print(\"List with duplicates removed:\", unique_list)"
   ]
  },
  {
   "cell_type": "code",
   "execution_count": 38,
   "id": "d15a72e4-1fa8-4d50-9950-99914998251b",
   "metadata": {},
   "outputs": [],
   "source": [
    "#Create a Python program that counts the number of words in a sentence using a for loop."
   ]
  },
  {
   "cell_type": "code",
   "execution_count": 39,
   "id": "7efb3b58-a37c-42ae-9a65-b9c26c5c0b71",
   "metadata": {},
   "outputs": [
    {
     "name": "stdin",
     "output_type": "stream",
     "text": [
      "Enter a sentence:  my name is Nishan singh\n"
     ]
    },
    {
     "name": "stdout",
     "output_type": "stream",
     "text": [
      "Number of words: 5\n"
     ]
    }
   ],
   "source": [
    "sentence = input(\"Enter a sentence: \")\n",
    "word_count = 1  # Initialize to 1 as there will be at least one word\n",
    "for char in sentence:\n",
    "    if char == ' ':\n",
    "        word_count += 1\n",
    "print(\"Number of words:\", word_count)"
   ]
  },
  {
   "cell_type": "code",
   "execution_count": 40,
   "id": "265c5f2a-9dd4-441f-a7d4-f5521447d5e3",
   "metadata": {},
   "outputs": [],
   "source": [
    "#Write a Python program to find the sum of all odd numbers from 1 to 50 using a for loop."
   ]
  },
  {
   "cell_type": "code",
   "execution_count": 41,
   "id": "130878bd-70a0-4d8b-9e03-fbb13fceac0d",
   "metadata": {},
   "outputs": [
    {
     "name": "stdout",
     "output_type": "stream",
     "text": [
      "Sum of odd numbers: 625\n"
     ]
    }
   ],
   "source": [
    "sum = 0\n",
    "for num in range(1, 51, 2):\n",
    "    sum += num\n",
    "print(\"Sum of odd numbers:\", sum)"
   ]
  },
  {
   "cell_type": "code",
   "execution_count": 42,
   "id": "8e99a9b5-6421-4ae5-ba1d-8f4f151d8d47",
   "metadata": {},
   "outputs": [],
   "source": [
    "#Write a Python program that checks if a given year is a leap year using a for loop."
   ]
  },
  {
   "cell_type": "code",
   "execution_count": 43,
   "id": "bf4f09ba-b7bc-4015-9227-6957ef521ff1",
   "metadata": {},
   "outputs": [
    {
     "name": "stdin",
     "output_type": "stream",
     "text": [
      "Enter a year:  1995\n"
     ]
    },
    {
     "name": "stdout",
     "output_type": "stream",
     "text": [
      "Not a leap year\n"
     ]
    }
   ],
   "source": [
    "year = int(input(\"Enter a year: \"))\n",
    "leap = False\n",
    "for i in range(4, year + 1, 4):\n",
    "    if year == i:\n",
    "        leap = True\n",
    "    elif year == i - 100:\n",
    "        leap = False\n",
    "    elif year == i - 400:\n",
    "        leap = True\n",
    "\n",
    "if leap:\n",
    "    print(\"Leap year\")\n",
    "else:\n",
    "    print(\"Not a leap year\")"
   ]
  },
  {
   "cell_type": "code",
   "execution_count": 44,
   "id": "aea7422b-6202-4cd9-8085-d05e67553da5",
   "metadata": {},
   "outputs": [],
   "source": [
    "#Create a Python program that calculates the square root of a number using a for loop."
   ]
  },
  {
   "cell_type": "code",
   "execution_count": 45,
   "id": "4f04edc4-f17e-405b-b34a-85b6a1b9bd4c",
   "metadata": {},
   "outputs": [
    {
     "name": "stdin",
     "output_type": "stream",
     "text": [
      "Enter a number:  895834789429\n"
     ]
    },
    {
     "name": "stdout",
     "output_type": "stream",
     "text": [
      "Square root: 874839002.884739\n"
     ]
    }
   ],
   "source": [
    "num = float(input(\"Enter a number: \"))\n",
    "sqrt = num\n",
    "for i in range(10):\n",
    "    sqrt = 0.5 * (sqrt + num / sqrt)\n",
    "print(\"Square root:\", sqrt)"
   ]
  },
  {
   "cell_type": "code",
   "execution_count": 46,
   "id": "a8b7621b-d904-42fc-adda-9fd8a818e770",
   "metadata": {},
   "outputs": [],
   "source": [
    "#Write a Python program to find the LCM (Least Common Multiple) of two numbers using a for loop."
   ]
  },
  {
   "cell_type": "code",
   "execution_count": 1,
   "id": "b7e701d4-d582-4c9a-8c6a-548146394f30",
   "metadata": {},
   "outputs": [
    {
     "name": "stdin",
     "output_type": "stream",
     "text": [
      "Enter the first number:  637\n",
      "Enter the second number:  673\n"
     ]
    },
    {
     "name": "stdout",
     "output_type": "stream",
     "text": [
      "LCM: 428701\n"
     ]
    }
   ],
   "source": [
    "num1 = int(input(\"Enter the first number: \"))\n",
    "num2 = int(input(\"Enter the second number: \"))\n",
    "\n",
    "if num1 > num2:\n",
    "    greater = num1\n",
    "else:\n",
    "    greater = num2\n",
    "\n",
    "while True:\n",
    "    if greater % num1 == 0 and greater % num2 == 0:\n",
    "        lcm = greater\n",
    "        break\n",
    "    greater += 1\n",
    "\n",
    "print(\"LCM:\", lcm)"
   ]
  },
  {
   "cell_type": "code",
   "execution_count": 2,
   "id": "f5af0ceb-97cf-4999-8d63-faadf144803b",
   "metadata": {},
   "outputs": [],
   "source": [
    "#Write a Python program to check if a number is positive, negative, or zero using an if-else statement."
   ]
  },
  {
   "cell_type": "code",
   "execution_count": 3,
   "id": "bfd149f0-c777-4b0f-988b-a5e67fbd45d7",
   "metadata": {},
   "outputs": [
    {
     "name": "stdin",
     "output_type": "stream",
     "text": [
      "Enter a number:  4564\n"
     ]
    },
    {
     "name": "stdout",
     "output_type": "stream",
     "text": [
      "Positive number\n"
     ]
    }
   ],
   "source": [
    "num = float(input(\"Enter a number: \"))\n",
    "\n",
    "if num > 0:\n",
    "    print(\"Positive number\")\n",
    "elif num < 0:\n",
    "    print(\"Negative number\")\n",
    "else:\n",
    "    print(\"Zero\")"
   ]
  },
  {
   "cell_type": "code",
   "execution_count": 4,
   "id": "8ed09f59-6e54-4938-bd1e-f1ad8c695127",
   "metadata": {},
   "outputs": [],
   "source": [
    "#Create a Python program that checks if a given number is even or odd using an if-else statement."
   ]
  },
  {
   "cell_type": "code",
   "execution_count": 5,
   "id": "b4d9d423-b0a9-4492-9f1d-631b33314bc5",
   "metadata": {},
   "outputs": [
    {
     "name": "stdin",
     "output_type": "stream",
     "text": [
      "Enter a number:  53\n"
     ]
    },
    {
     "name": "stdout",
     "output_type": "stream",
     "text": [
      "Odd number\n"
     ]
    }
   ],
   "source": [
    "num = int(input(\"Enter a number: \"))\n",
    "\n",
    "if num % 2 == 0:\n",
    "    print(\"Even number\")\n",
    "else:\n",
    "    print(\"Odd number\")"
   ]
  },
  {
   "cell_type": "code",
   "execution_count": 6,
   "id": "d114bffa-2bb2-4430-8e9a-5cee9f41d53f",
   "metadata": {},
   "outputs": [],
   "source": [
    "#How can you use nested if-else statements in Python, and provide an example?"
   ]
  },
  {
   "cell_type": "code",
   "execution_count": 7,
   "id": "a714b8f6-5f15-4386-b0fe-adeddc787653",
   "metadata": {},
   "outputs": [
    {
     "name": "stdin",
     "output_type": "stream",
     "text": [
      "Enter a number:  -563\n"
     ]
    },
    {
     "name": "stdout",
     "output_type": "stream",
     "text": [
      "Negative number\n"
     ]
    }
   ],
   "source": [
    "num = int(input(\"Enter a number: \"))\n",
    "\n",
    "if num >= 0:\n",
    "    if num == 0:\n",
    "        print(\"Zero\")\n",
    "    else:\n",
    "        print(\"Positive number\")\n",
    "else:\n",
    "    print(\"Negative number\")"
   ]
  },
  {
   "cell_type": "code",
   "execution_count": 8,
   "id": "84bb32de-7be7-4e29-be81-acf1b838f808",
   "metadata": {},
   "outputs": [],
   "source": [
    "#Write a Python program to determine the largest of three numbers using if-else."
   ]
  },
  {
   "cell_type": "code",
   "execution_count": 9,
   "id": "07ff0ea7-f49b-4af3-b681-b03ad37c1e30",
   "metadata": {},
   "outputs": [
    {
     "name": "stdin",
     "output_type": "stream",
     "text": [
      "Enter the first number:  36464\n",
      "Enter the second number:  5646\n",
      "Enter the third number:  67\n"
     ]
    },
    {
     "name": "stdout",
     "output_type": "stream",
     "text": [
      "The largest number is 36464.0\n"
     ]
    }
   ],
   "source": [
    "num1 = float(input(\"Enter the first number: \"))\n",
    "num2 = float(input(\"Enter the second number: \"))\n",
    "num3 = float(input(\"Enter the third number: \"))\n",
    "\n",
    "if num1 >= num2 and num1 >= num3:\n",
    "    largest = num1\n",
    "elif num2 >= num1 and num2 >= num3:\n",
    "    largest = num2\n",
    "else:\n",
    "    largest = num3\n",
    "\n",
    "print(\"The largest number is\", largest)"
   ]
  },
  {
   "cell_type": "code",
   "execution_count": 10,
   "id": "6d2628e5-91c4-4c36-b9bb-d563f5c8445b",
   "metadata": {},
   "outputs": [],
   "source": [
    "#Write a Python program that calculates the absolute value of a number using if-else."
   ]
  },
  {
   "cell_type": "code",
   "execution_count": 11,
   "id": "15c81c14-d606-4ff6-a134-5cd7c81059b8",
   "metadata": {},
   "outputs": [
    {
     "name": "stdin",
     "output_type": "stream",
     "text": [
      "Enter a number:  45\n"
     ]
    },
    {
     "name": "stdout",
     "output_type": "stream",
     "text": [
      "The absolute value of 45.0 is 45.0\n"
     ]
    }
   ],
   "source": [
    "num = float(input(\"Enter a number: \"))\n",
    "\n",
    "if num < 0:\n",
    "    absolute_value = -num\n",
    "else:\n",
    "    absolute_value = num\n",
    "\n",
    "print(\"The absolute value of\", num, \"is\", absolute_value)"
   ]
  },
  {
   "cell_type": "code",
   "execution_count": 12,
   "id": "8fba9525-22bf-44cc-b544-8eab1390904f",
   "metadata": {},
   "outputs": [],
   "source": [
    "#Create a Python program that checks if a given character is a vowel or consonant using if-else."
   ]
  },
  {
   "cell_type": "code",
   "execution_count": 13,
   "id": "894ee89f-5585-4c43-89f0-a2de134d9997",
   "metadata": {},
   "outputs": [
    {
     "name": "stdin",
     "output_type": "stream",
     "text": [
      "Enter a character:  Nishan 1937\n"
     ]
    },
    {
     "name": "stdout",
     "output_type": "stream",
     "text": [
      "Nishan 1937 is a consonant\n"
     ]
    }
   ],
   "source": [
    "char = input(\"Enter a character: \")\n",
    "\n",
    "if char.lower() in ('a', 'e', 'i', 'o', 'u'):\n",
    "    print(char, \"is a vowel\")\n",
    "else:\n",
    "    print(char, \"is a consonant\")\n",
    "    "
   ]
  },
  {
   "cell_type": "code",
   "execution_count": 14,
   "id": "cd1f6ec8-ec90-4117-9c5f-1ee1acd0da95",
   "metadata": {},
   "outputs": [],
   "source": [
    "#Write a Python program to determine if a user is eligible to vote based on their age using if-else."
   ]
  },
  {
   "cell_type": "code",
   "execution_count": 15,
   "id": "885432b1-be69-4ebd-a5e3-45b66f7e1538",
   "metadata": {},
   "outputs": [
    {
     "name": "stdin",
     "output_type": "stream",
     "text": [
      "Enter your age:  29\n"
     ]
    },
    {
     "name": "stdout",
     "output_type": "stream",
     "text": [
      "You are eligible to vote\n"
     ]
    }
   ],
   "source": [
    "age = int(input(\"Enter your age: \"))\n",
    "\n",
    "if age >= 18:\n",
    "    print(\"You are eligible to vote\")\n",
    "else:\n",
    "    print(\"You are not eligible to vote\")"
   ]
  },
  {
   "cell_type": "code",
   "execution_count": 16,
   "id": "cfffa117-f125-4f43-a53c-a531b308981a",
   "metadata": {},
   "outputs": [],
   "source": [
    "#Create a Python program that calculates the discount amount based on the purchase amount using if-else."
   ]
  },
  {
   "cell_type": "code",
   "execution_count": 18,
   "id": "ac8e22d9-7e52-49b8-9b59-549fa42531f3",
   "metadata": {},
   "outputs": [
    {
     "name": "stdin",
     "output_type": "stream",
     "text": [
      "Enter the purchase amount:  1245\n"
     ]
    },
    {
     "name": "stdout",
     "output_type": "stream",
     "text": [
      "Discount amount: 124.5\n"
     ]
    }
   ],
   "source": [
    "purchase_amount = float(input(\"Enter the purchase amount: \"))\n",
    "\n",
    "if purchase_amount >= 1000:\n",
    "    discount = 0.1 * purchase_amount\n",
    "else:\n",
    "    discount = 0\n",
    "\n",
    "print(\"Discount amount:\", discount)"
   ]
  },
  {
   "cell_type": "code",
   "execution_count": 19,
   "id": "250e5d47-d7a5-4428-8f27-956888887ac6",
   "metadata": {},
   "outputs": [],
   "source": [
    "#Write a Python program to check if a number is within a specified range using if-else."
   ]
  },
  {
   "cell_type": "code",
   "execution_count": 20,
   "id": "bc6e1af9-b365-46eb-b183-469c4be04f69",
   "metadata": {},
   "outputs": [
    {
     "name": "stdin",
     "output_type": "stream",
     "text": [
      "Enter a number:  7\n"
     ]
    },
    {
     "name": "stdout",
     "output_type": "stream",
     "text": [
      "Number is within the range of 0 to 10\n"
     ]
    }
   ],
   "source": [
    "num = float(input(\"Enter a number: \"))\n",
    "\n",
    "if num >= 0 and num <= 10:\n",
    "    print(\"Number is within the range of 0 to 10\")\n",
    "else:\n",
    "    print(\"Number is outside the range of 0 to 10\")"
   ]
  },
  {
   "cell_type": "code",
   "execution_count": 21,
   "id": "119e8f29-ee4b-455c-910c-9ec46e94a704",
   "metadata": {},
   "outputs": [],
   "source": [
    "#Create a Python program that determines the grade of a student based on their score using if-else."
   ]
  },
  {
   "cell_type": "code",
   "execution_count": 22,
   "id": "403e52c1-efc8-4851-9aa5-cc980ccc9ac3",
   "metadata": {},
   "outputs": [
    {
     "name": "stdin",
     "output_type": "stream",
     "text": [
      "Enter the score:  59\n"
     ]
    },
    {
     "name": "stdout",
     "output_type": "stream",
     "text": [
      "Grade: F\n"
     ]
    }
   ],
   "source": [
    "score = float(input(\"Enter the score: \"))\n",
    "\n",
    "if score >= 90:\n",
    "    grade = 'A'\n",
    "elif score >= 80:\n",
    "    grade = 'B'\n",
    "elif score >= 70:\n",
    "    grade = 'C'\n",
    "elif score >= 60:\n",
    "    grade = 'D'\n",
    "else:\n",
    "    grade = 'F'\n",
    "\n",
    "print(\"Grade:\", grade)"
   ]
  },
  {
   "cell_type": "code",
   "execution_count": 23,
   "id": "046e87c8-64d3-4710-bd3c-9d1ff0e25dcd",
   "metadata": {},
   "outputs": [],
   "source": [
    "#Write a Python program to check if a string is empty or not using if-else.\n"
   ]
  },
  {
   "cell_type": "code",
   "execution_count": 25,
   "id": "5ffe1874-db0f-45c7-ad54-2f6fd16afb0f",
   "metadata": {},
   "outputs": [
    {
     "name": "stdin",
     "output_type": "stream",
     "text": [
      "Enter a string:  \n"
     ]
    },
    {
     "name": "stdout",
     "output_type": "stream",
     "text": [
      "String is empty\n"
     ]
    }
   ],
   "source": [
    "string = input(\"Enter a string: \")\n",
    "\n",
    "if string:\n",
    "    print(\"String is not empty\")\n",
    "else:\n",
    "    print(\"String is empty\")"
   ]
  },
  {
   "cell_type": "code",
   "execution_count": 27,
   "id": "fecd2dc3-2748-40fb-be92-ae3d2c42daed",
   "metadata": {},
   "outputs": [],
   "source": [
    "#Create a Python program that identifies the type of a triangle (e.g., equilateral, isosceles, or scalene) based on input values using if-else.\n"
   ]
  },
  {
   "cell_type": "code",
   "execution_count": 28,
   "id": "2368d9a8-e2ba-442d-bc3a-6464f56e1f07",
   "metadata": {},
   "outputs": [
    {
     "name": "stdin",
     "output_type": "stream",
     "text": [
      "Enter the length of side 1:  15\n",
      "Enter the length of side 2:  34\n",
      "Enter the length of side 3:  24\n"
     ]
    },
    {
     "name": "stdout",
     "output_type": "stream",
     "text": [
      "The triangle is Scalene\n"
     ]
    }
   ],
   "source": [
    "side1 = float(input(\"Enter the length of side 1: \"))\n",
    "side2 = float(input(\"Enter the length of side 2: \"))\n",
    "side3 = float(input(\"Enter the length of side 3: \"))\n",
    "\n",
    "if side1 == side2 == side3:\n",
    "    triangle_type = \"Equilateral\"\n",
    "elif side1 == side2 or side1 == side3 or side2 == side3:\n",
    "    triangle_type = \"Isosceles\"\n",
    "else:\n",
    "    triangle_type = \"Scalene\"\n",
    "\n",
    "print(\"The triangle is\", triangle_type)"
   ]
  },
  {
   "cell_type": "code",
   "execution_count": 29,
   "id": "0e852376-6e72-4a68-85d8-1e384fe4645e",
   "metadata": {},
   "outputs": [],
   "source": [
    "#Write a Python program to determine the day of the week based on a user-provided number using if-else."
   ]
  },
  {
   "cell_type": "code",
   "execution_count": 30,
   "id": "fa078d25-5480-4edc-ae6a-52a5d4d50191",
   "metadata": {},
   "outputs": [
    {
     "name": "stdin",
     "output_type": "stream",
     "text": [
      "Enter a number (1-7):  4\n"
     ]
    },
    {
     "name": "stdout",
     "output_type": "stream",
     "text": [
      "The day is Thursday\n"
     ]
    }
   ],
   "source": [
    "day_num = int(input(\"Enter a number (1-7): \"))\n",
    "\n",
    "if day_num == 1:\n",
    "    day = \"Monday\"\n",
    "elif day_num == 2:\n",
    "    day = \"Tuesday\"\n",
    "elif day_num == 3:\n",
    "    day = \"Wednesday\"\n",
    "elif day_num == 4:\n",
    "    day = \"Thursday\"\n",
    "elif day_num == 5:\n",
    "    day = \"Friday\"\n",
    "elif day_num == 6:\n",
    "    day = \"Saturday\"\n",
    "elif day_num == 7:\n",
    "    day = \"Sunday\"\n",
    "else:\n",
    "    day = \"Invalid number\"\n",
    "\n",
    "print(\"The day is\", day)"
   ]
  },
  {
   "cell_type": "code",
   "execution_count": 31,
   "id": "dc97afa5-1eb1-421b-8de3-94321e349a77",
   "metadata": {},
   "outputs": [],
   "source": [
    "#Create a Python program that checks if a given year is a leap year using both if-else and a function."
   ]
  },
  {
   "cell_type": "code",
   "execution_count": 32,
   "id": "4666b6c6-7d08-4ee4-85e7-20630419bfb3",
   "metadata": {},
   "outputs": [
    {
     "name": "stdin",
     "output_type": "stream",
     "text": [
      "Enter a year:  2004\n"
     ]
    },
    {
     "name": "stdout",
     "output_type": "stream",
     "text": [
      "2004 is a leap year\n"
     ]
    }
   ],
   "source": [
    "def is_leap_year(year):\n",
    "    if year % 4 == 0:\n",
    "        if year % 100 == 0:\n",
    "            if year % 400 == 0:\n",
    "                return True\n",
    "            else:\n",
    "                return False\n",
    "        else:\n",
    "            return True\n",
    "    else:\n",
    "        return False\n",
    "\n",
    "year = int(input(\"Enter a year: \"))\n",
    "\n",
    "if is_leap_year(year):\n",
    "    print(year, \"is a leap year\")\n",
    "else:\n",
    "    print(year, \"is not a leap year\")"
   ]
  },
  {
   "cell_type": "code",
   "execution_count": 33,
   "id": "2da688b8-3425-4d17-a154-00e09a971430",
   "metadata": {},
   "outputs": [],
   "source": [
    "#How do you use the \"assert\" statement in Python to add debugging checks within if-else blocks?#"
   ]
  },
  {
   "cell_type": "code",
   "execution_count": 34,
   "id": "bfc99c31-a27a-412e-bb74-d8fc90d3e598",
   "metadata": {},
   "outputs": [
    {
     "name": "stdin",
     "output_type": "stream",
     "text": [
      "Enter a number:  564\n"
     ]
    },
    {
     "name": "stdout",
     "output_type": "stream",
     "text": [
      "Even number\n"
     ]
    }
   ],
   "source": [
    "num = int(input(\"Enter a number: \"))\n",
    "\n",
    "assert num > 0, \"Number must be positive\"\n",
    "\n",
    "if num % 2 == 0:\n",
    "    print(\"Even number\")\n",
    "else:\n",
    "    print(\"Odd number\")"
   ]
  },
  {
   "cell_type": "code",
   "execution_count": 35,
   "id": "4d1d9764-aec3-4a0b-9feb-c14489e37a77",
   "metadata": {},
   "outputs": [],
   "source": [
    "#Create a Python program that determines the eligibility of a person for a senior citizen discount based on age using if-else"
   ]
  },
  {
   "cell_type": "code",
   "execution_count": 36,
   "id": "cb1588cb-b041-444e-b519-ebd690926be3",
   "metadata": {},
   "outputs": [
    {
     "name": "stdin",
     "output_type": "stream",
     "text": [
      "Enter your age:  49\n"
     ]
    },
    {
     "name": "stdout",
     "output_type": "stream",
     "text": [
      "You are not eligible for a senior citizen discount\n"
     ]
    }
   ],
   "source": [
    "age = int(input(\"Enter your age: \"))\n",
    "\n",
    "if age >= 60:\n",
    "    print(\"You are eligible for a senior citizen discount\")\n",
    "else:\n",
    "    print(\"You are not eligible for a senior citizen discount\")"
   ]
  },
  {
   "cell_type": "code",
   "execution_count": 37,
   "id": "39fa789e-d2b7-410d-b9cf-c1982a6ac9f0",
   "metadata": {},
   "outputs": [],
   "source": [
    "#Write a Python program to categorize a given character as uppercase, lowercase, or neither using if-else."
   ]
  },
  {
   "cell_type": "code",
   "execution_count": 38,
   "id": "d883cec7-61f5-4c8f-9499-103d7faafd8e",
   "metadata": {},
   "outputs": [
    {
     "name": "stdin",
     "output_type": "stream",
     "text": [
      "Enter a character:  NiShaN\n"
     ]
    },
    {
     "name": "stdout",
     "output_type": "stream",
     "text": [
      "The character is Neither uppercase nor lowercase\n"
     ]
    }
   ],
   "source": [
    "char = input(\"Enter a character: \")\n",
    "\n",
    "if char.isupper():\n",
    "    category = \"Uppercase\"\n",
    "elif char.islower():\n",
    "    category = \"Lowercase\"\n",
    "else:\n",
    "    category = \"Neither uppercase nor lowercase\"\n",
    "\n",
    "print(\"The character is\", category)"
   ]
  },
  {
   "cell_type": "code",
   "execution_count": 39,
   "id": "0f6ca8de-a463-4222-bda9-8a64c7709e5c",
   "metadata": {},
   "outputs": [],
   "source": [
    "#Write a Python program to determine the roots of a quadratic equation using if-else."
   ]
  },
  {
   "cell_type": "code",
   "execution_count": 40,
   "id": "77c95ca3-6263-4ceb-9908-1a908d44601c",
   "metadata": {},
   "outputs": [
    {
     "name": "stdin",
     "output_type": "stream",
     "text": [
      "Enter the coefficient of x^2:  344.6\n",
      "Enter the coefficient of x:  3123\n",
      "Enter the constant term:  755\n"
     ]
    },
    {
     "name": "stdout",
     "output_type": "stream",
     "text": [
      "Roots: Two distinct real roots: -0.2485726106015504, -8.814108759102453\n"
     ]
    }
   ],
   "source": [
    "import math\n",
    "\n",
    "a = float(input(\"Enter the coefficient of x^2: \"))\n",
    "b = float(input(\"Enter the coefficient of x: \"))\n",
    "c = float(input(\"Enter the constant term: \"))\n",
    "\n",
    "discriminant = b**2 - 4*a*c\n",
    "\n",
    "if discriminant > 0:\n",
    "    root1 = (-b + math.sqrt(discriminant)) / (2*a)\n",
    "    root2 = (-b - math.sqrt(discriminant)) / (2*a)\n",
    "    roots = \"Two distinct real roots: \" + str(root1) + \", \" + str(root2)\n",
    "elif discriminant == 0:\n",
    "    root = -b / (2*a)\n",
    "    roots = \"One real root: \" + str(root)\n",
    "else:\n",
    "    real_part = -b / (2*a)\n",
    "    imaginary_part = math.sqrt(-discriminant) / (2*a)\n",
    "    roots = \"Two complex roots: \" + str(real_part) + \" + \" + str(imaginary_part) + \"i, \" + str(real_part) + \" - \" + str(imaginary_part) + \"i\"\n",
    "\n",
    "print(\"Roots:\", roots)"
   ]
  },
  {
   "cell_type": "code",
   "execution_count": 41,
   "id": "567e0231-176c-45ef-b3dd-d0830a605b2a",
   "metadata": {},
   "outputs": [],
   "source": [
    "#Create a Python program that checks if a given year is a century year or not using if-else."
   ]
  },
  {
   "cell_type": "code",
   "execution_count": 45,
   "id": "3e1598dc-fb63-4e79-b193-f5a244b41846",
   "metadata": {},
   "outputs": [
    {
     "name": "stdin",
     "output_type": "stream",
     "text": [
      "Enter a year:  1900\n"
     ]
    },
    {
     "name": "stdout",
     "output_type": "stream",
     "text": [
      "1900 is a century year\n"
     ]
    }
   ],
   "source": [
    "year = int(input(\"Enter a year: \"))\n",
    "\n",
    "if year % 100 == 0:\n",
    "    print(year, \"is a century year\")\n",
    "else:\n",
    "    print(year, \"is not a century year\")"
   ]
  },
  {
   "cell_type": "code",
   "execution_count": 46,
   "id": "399bb3a8-9304-4474-af52-498295cb3bbc",
   "metadata": {},
   "outputs": [],
   "source": [
    "#Write a Python program to determine if a given number is a perfect square using if-else."
   ]
  },
  {
   "cell_type": "code",
   "execution_count": 49,
   "id": "13669403-1584-48b2-b29f-f4c2127adbe5",
   "metadata": {},
   "outputs": [
    {
     "name": "stdin",
     "output_type": "stream",
     "text": [
      "Enter a number:  49\n"
     ]
    },
    {
     "name": "stdout",
     "output_type": "stream",
     "text": [
      "49 is a perfect square\n"
     ]
    }
   ],
   "source": [
    "import math\n",
    "\n",
    "num = int(input(\"Enter a number: \"))\n",
    "\n",
    "sqrt = math.sqrt(num)\n",
    "\n",
    "if sqrt == int(sqrt):\n",
    "    print(num, \"is a perfect square\")\n",
    "else:\n",
    "    print(num, \"is not a perfect square\")"
   ]
  },
  {
   "cell_type": "code",
   "execution_count": 50,
   "id": "63a54fed-4536-43f2-9344-11a1ffd4c04b",
   "metadata": {},
   "outputs": [],
   "source": [
    "#Explain the purpose of the \"continue\" and \"break\" statements within if-else loops."
   ]
  },
  {
   "cell_type": "code",
   "execution_count": 51,
   "id": "fe5fee9a-0152-41a3-ab34-42720669ddec",
   "metadata": {},
   "outputs": [
    {
     "name": "stdout",
     "output_type": "stream",
     "text": [
      "1\n",
      "2\n",
      "4\n",
      "5\n"
     ]
    }
   ],
   "source": [
    "#continue \n",
    "for i in range(1, 6):\n",
    "    if i == 3:\n",
    "        continue\n",
    "    print(i)"
   ]
  },
  {
   "cell_type": "code",
   "execution_count": 52,
   "id": "941d60bb-800d-41ab-989f-1fccb6ca19fa",
   "metadata": {},
   "outputs": [
    {
     "name": "stdout",
     "output_type": "stream",
     "text": [
      "1\n",
      "2\n",
      "3\n"
     ]
    }
   ],
   "source": [
    "#break\n",
    "for i in range(1, 6):\n",
    "    if i == 4:\n",
    "        break\n",
    "    print(i)"
   ]
  },
  {
   "cell_type": "code",
   "execution_count": 53,
   "id": "34b5f364-a203-4405-9851-dfb3a3303ce0",
   "metadata": {},
   "outputs": [],
   "source": [
    "#Create a Python program that calculates the BMI (Body Mass Index) of a person based on their weight and height using if-else."
   ]
  },
  {
   "cell_type": "code",
   "execution_count": 54,
   "id": "ebab2b9e-ece6-4e15-97a4-c78e826c8257",
   "metadata": {},
   "outputs": [
    {
     "name": "stdin",
     "output_type": "stream",
     "text": [
      "Enter weight in kilograms:  56\n",
      "Enter height in meters:  135\n"
     ]
    },
    {
     "name": "stdout",
     "output_type": "stream",
     "text": [
      "Underweight\n"
     ]
    }
   ],
   "source": [
    "weight = float(input(\"Enter weight in kilograms: \"))\n",
    "height = float(input(\"Enter height in meters: \"))\n",
    "\n",
    "bmi = weight / (height ** 2)\n",
    "\n",
    "if bmi < 18.5:\n",
    "    print(\"Underweight\")\n",
    "elif bmi >= 18.5 and bmi < 25:\n",
    "    print(\"Normal weight\")\n",
    "elif bmi >= 25 and bmi < 30:\n",
    "    print(\"Overweight\")\n",
    "else:\n",
    "    print(\"Obese\")"
   ]
  },
  {
   "cell_type": "code",
   "execution_count": 55,
   "id": "9e4bbeaf-b9b9-4ab6-b3f1-ffcc86f3e783",
   "metadata": {},
   "outputs": [],
   "source": [
    "#How can you use the \"filter()\" function with if-else statements to filter elements from a list?"
   ]
  },
  {
   "cell_type": "code",
   "execution_count": 56,
   "id": "1f040783-d60b-48df-9c5d-13277ab0007e",
   "metadata": {},
   "outputs": [
    {
     "name": "stdout",
     "output_type": "stream",
     "text": [
      "[2, 4, 6, 8, 10]\n"
     ]
    }
   ],
   "source": [
    "numbers = [1, 2, 3, 4, 5, 6, 7, 8, 9, 10]\n",
    "\n",
    "filtered_numbers = filter(lambda x: x % 2 == 0, numbers)\n",
    "\n",
    "even_numbers = []\n",
    "for num in filtered_numbers:\n",
    "    even_numbers.append(num)\n",
    "\n",
    "print(even_numbers)"
   ]
  },
  {
   "cell_type": "code",
   "execution_count": 57,
   "id": "640cdcf5-a102-4df4-9446-6c80b5c87173",
   "metadata": {},
   "outputs": [],
   "source": [
    "#Write a Python program to determine if a given number is prime or not using if-else."
   ]
  },
  {
   "cell_type": "code",
   "execution_count": 58,
   "id": "f02bc6fe-4ecc-42bc-8840-c5dca9b28280",
   "metadata": {},
   "outputs": [
    {
     "name": "stdin",
     "output_type": "stream",
     "text": [
      "Enter a number:  646478\n"
     ]
    },
    {
     "name": "stdout",
     "output_type": "stream",
     "text": [
      "646478 is not a prime number\n"
     ]
    }
   ],
   "source": [
    "number = int(input(\"Enter a number: \"))\n",
    "\n",
    "if number > 1:\n",
    "    for i in range(2, number):\n",
    "        if (number % i) == 0:\n",
    "            print(number, \"is not a prime number\")\n",
    "            break\n",
    "    else:\n",
    "        print(number, \"is a prime number\")\n",
    "else:\n",
    "    print(number, \"is not a prime number\")"
   ]
  },
  {
   "cell_type": "code",
   "execution_count": 59,
   "id": "fb020a45-e614-4fbf-b2b9-178de55887e7",
   "metadata": {},
   "outputs": [],
   "source": [
    "#Explain the purpose of the `map()` function in Python and provide an example of how it can be used to apply a function to each element of an iterable."
   ]
  },
  {
   "cell_type": "code",
   "execution_count": 60,
   "id": "80c232b8-9c17-4513-a318-c673257f4b34",
   "metadata": {},
   "outputs": [
    {
     "name": "stdout",
     "output_type": "stream",
     "text": [
      "[1, 4, 9, 16, 25]\n"
     ]
    }
   ],
   "source": [
    "numbers = [1, 2, 3, 4, 5]\n",
    "\n",
    "def square(x):\n",
    "    return x**2\n",
    "\n",
    "squared_numbers = map(square, numbers)\n",
    "print(list(squared_numbers))"
   ]
  },
  {
   "cell_type": "code",
   "execution_count": 61,
   "id": "19602c4e-7dad-481f-9fee-ede2b8f523e4",
   "metadata": {},
   "outputs": [],
   "source": [
    "#Write a Python program that uses the `map()` function to square each element of a list of numbers."
   ]
  },
  {
   "cell_type": "code",
   "execution_count": 62,
   "id": "2b2d4d2e-78a1-4b2d-8a6e-a9a5414addf8",
   "metadata": {},
   "outputs": [
    {
     "name": "stdout",
     "output_type": "stream",
     "text": [
      "[1, 4, 9, 16, 25]\n"
     ]
    }
   ],
   "source": [
    "numbers = [1, 2, 3, 4, 5]\n",
    "\n",
    "squared_numbers = list(map(lambda x: x**2, numbers))\n",
    "print(squared_numbers)"
   ]
  },
  {
   "cell_type": "code",
   "execution_count": 63,
   "id": "8ff7c868-ebe5-435f-af54-bc2e521e3d26",
   "metadata": {},
   "outputs": [],
   "source": [
    "#How does the `map()` function differ from a list comprehension in Python, and when would you choose one over the other?"
   ]
  },
  {
   "cell_type": "code",
   "execution_count": 64,
   "id": "8bbf3821-17cd-4107-967f-446d05368bf4",
   "metadata": {},
   "outputs": [
    {
     "name": "stdout",
     "output_type": "stream",
     "text": [
      "[1, 4, 9, 16, 25]\n"
     ]
    }
   ],
   "source": [
    "#Using 'map()' to square each element of a list:\n",
    "numbers = [1, 2, 3, 4, 5]\n",
    "squared_numbers = list(map(lambda x: x**2, numbers))\n",
    "print(squared_numbers)"
   ]
  },
  {
   "cell_type": "code",
   "execution_count": 65,
   "id": "511e2f1e-6206-4f74-8d9a-9bae94106cbe",
   "metadata": {},
   "outputs": [
    {
     "name": "stdout",
     "output_type": "stream",
     "text": [
      "[1, 4, 9, 16, 25]\n"
     ]
    }
   ],
   "source": [
    "#Using a list comprehension to square each element of a list:\n",
    "numbers = [1, 2, 3, 4, 5]\n",
    "squared_numbers = [x**2 for x in numbers]\n",
    "print(squared_numbers)"
   ]
  },
  {
   "cell_type": "code",
   "execution_count": 66,
   "id": "9e67399c-70a6-486a-8d59-8127d8cd78f9",
   "metadata": {},
   "outputs": [],
   "source": [
    "#Create a Python program that uses the `map()` function to convert a list of names to uppercase."
   ]
  },
  {
   "cell_type": "code",
   "execution_count": 67,
   "id": "4fe9489d-36fe-437d-b300-3dffdf879242",
   "metadata": {},
   "outputs": [
    {
     "name": "stdout",
     "output_type": "stream",
     "text": [
      "['JOHN', 'JANE', 'ALICE']\n"
     ]
    }
   ],
   "source": [
    "names = [\"john\", \"jane\", \"alice\"]\n",
    "\n",
    "uppercased_names = list(map(str.upper, names))\n",
    "print(uppercased_names)"
   ]
  },
  {
   "cell_type": "code",
   "execution_count": 68,
   "id": "18c3b525-cb76-4858-a68d-5df9269ccbd8",
   "metadata": {},
   "outputs": [],
   "source": [
    "#Write a Python program that uses the `map()` function to calculate the length of each word in a list of strings."
   ]
  },
  {
   "cell_type": "code",
   "execution_count": 69,
   "id": "839cecf9-3455-46bc-b8c5-24103a9723ce",
   "metadata": {},
   "outputs": [
    {
     "name": "stdout",
     "output_type": "stream",
     "text": [
      "[5, 5, 6, 3, 8]\n"
     ]
    }
   ],
   "source": [
    "strings = [\"hello\", \"world\", \"python\", \"map\", \"function\"]\n",
    "\n",
    "word_lengths = list(map(len, strings))\n",
    "print(word_lengths)"
   ]
  },
  {
   "cell_type": "code",
   "execution_count": 70,
   "id": "308c28f3-643c-4669-8fd6-898962903f02",
   "metadata": {},
   "outputs": [],
   "source": [
    "#How can you use the `map()` function to apply a custom function to elements of multiple lists simultaneously in Python?"
   ]
  },
  {
   "cell_type": "code",
   "execution_count": 71,
   "id": "a524fe39-f90b-44e6-9368-3b0fb6c7cdc9",
   "metadata": {},
   "outputs": [
    {
     "name": "stdout",
     "output_type": "stream",
     "text": [
      "[4, 10, 18]\n"
     ]
    }
   ],
   "source": [
    "def multiply(a, b):\n",
    "    return a * b\n",
    "\n",
    "numbers1 = [1, 2, 3]\n",
    "numbers2 = [4, 5, 6]\n",
    "\n",
    "result = list(map(multiply, numbers1, numbers2))\n",
    "print(result)"
   ]
  },
  {
   "cell_type": "code",
   "execution_count": 72,
   "id": "636ea788-f044-470f-9226-fcf291e652a1",
   "metadata": {},
   "outputs": [],
   "source": [
    "#Create a Python program that uses `map()` to convert a list of temperatures from Celsius to Fahrenheit."
   ]
  },
  {
   "cell_type": "code",
   "execution_count": 73,
   "id": "6b8ca68e-52fa-451b-a43f-e000930d382e",
   "metadata": {},
   "outputs": [
    {
     "name": "stdout",
     "output_type": "stream",
     "text": [
      "[77.0, 86.0, 59.0, 50.0]\n"
     ]
    }
   ],
   "source": [
    "def celsius_to_fahrenheit(celsius):\n",
    "    return (celsius * 9/5) + 32\n",
    "\n",
    "temperatures_celsius = [25, 30, 15, 10]\n",
    "\n",
    "temperatures_fahrenheit = list(map(celsius_to_fahrenheit, temperatures_celsius))\n",
    "print(temperatures_fahrenheit)"
   ]
  },
  {
   "cell_type": "code",
   "execution_count": 74,
   "id": "0f97e0b5-7147-43e9-9ef7-c5f278f0dd67",
   "metadata": {},
   "outputs": [],
   "source": [
    "#Write a Python program that uses the `map()` function to round each element of a list of floating-point numbers to the nearest integer."
   ]
  },
  {
   "cell_type": "code",
   "execution_count": 75,
   "id": "de5d8f40-5951-4a28-8441-3a3fd6a92f94",
   "metadata": {},
   "outputs": [
    {
     "name": "stdout",
     "output_type": "stream",
     "text": [
      "[3, 3, 2, 5]\n"
     ]
    }
   ],
   "source": [
    "numbers = [3.14, 2.7, 1.5, 4.9]\n",
    "\n",
    "rounded_numbers = list(map(round, numbers))\n",
    "print(rounded_numbers)"
   ]
  },
  {
   "cell_type": "code",
   "execution_count": 76,
   "id": "629b24ce-9565-4abb-a544-791d03634849",
   "metadata": {},
   "outputs": [],
   "source": [
    "#What is the `reduce()` function in Python, and what module should you import to use it? Provide an example of its basic usage."
   ]
  },
  {
   "cell_type": "code",
   "execution_count": 79,
   "id": "fad280f6-f07a-406c-8b4d-cb58fa123ec9",
   "metadata": {},
   "outputs": [
    {
     "name": "stdout",
     "output_type": "stream",
     "text": [
      "15\n"
     ]
    }
   ],
   "source": [
    "from functools import reduce\n",
    "\n",
    "# Function to add two numbers\n",
    "def add(x, y):\n",
    "    return x + y\n",
    "\n",
    "numbers = [1, 2, 3, 4, 5]\n",
    "\n",
    "# Using reduce() to find the sum of elements in the list\n",
    "sum_of_numbers = reduce(add, numbers)\n",
    "print(sum_of_numbers)"
   ]
  },
  {
   "cell_type": "code",
   "execution_count": 80,
   "id": "02f1080d-05d5-4cc8-82fb-8b7745256fd4",
   "metadata": {},
   "outputs": [],
   "source": [
    "#Write a Python program that uses the `reduce()` function to find the product of all elements in a list."
   ]
  },
  {
   "cell_type": "code",
   "execution_count": 84,
   "id": "dbd87358-54cc-4323-93b6-d0e6b7595090",
   "metadata": {},
   "outputs": [
    {
     "name": "stdout",
     "output_type": "stream",
     "text": [
      "120\n"
     ]
    }
   ],
   "source": [
    "from functools import reduce\n",
    "\n",
    "# Function to multiply two numbers\n",
    "def multiply(x, y):\n",
    "    return x * y\n",
    "\n",
    "numbers = [1, 2, 3, 4, 5]\n",
    "\n",
    "# Using reduce() to find the product of elements in the list\n",
    "product = reduce(multiply, numbers)\n",
    "print(product)"
   ]
  },
  {
   "cell_type": "code",
   "execution_count": 85,
   "id": "e3efb425-7d2c-4958-9e3f-18b4cac23fd3",
   "metadata": {},
   "outputs": [],
   "source": [
    "#Create a Python program that uses `reduce()` to find the maximum element in a list of numbers."
   ]
  },
  {
   "cell_type": "code",
   "execution_count": 86,
   "id": "def91c8a-9dfe-4e7e-a097-b52f719b7701",
   "metadata": {},
   "outputs": [
    {
     "name": "stdout",
     "output_type": "stream",
     "text": [
      "9\n"
     ]
    }
   ],
   "source": [
    "from functools import reduce\n",
    "\n",
    "numbers = [7, 2, 9, 1, 5]\n",
    "\n",
    "# Using reduce() to find the maximum element in the list\n",
    "maximum = reduce(lambda x, y: x if x > y else y, numbers)\n",
    "print(maximum)"
   ]
  },
  {
   "cell_type": "code",
   "execution_count": 87,
   "id": "bfad2bf7-edac-4b0e-9c9f-bdece2a127d4",
   "metadata": {},
   "outputs": [],
   "source": [
    "#How can you use the `reduce()` function to concatenate a list of strings into a single string?"
   ]
  },
  {
   "cell_type": "code",
   "execution_count": 88,
   "id": "dab190ca-efd0-4a0e-a3d0-a3f1204dbda6",
   "metadata": {},
   "outputs": [
    {
     "name": "stdout",
     "output_type": "stream",
     "text": [
      "Hello World Python\n"
     ]
    }
   ],
   "source": [
    "from functools import reduce\n",
    "\n",
    "strings = ['Hello', 'World', 'Python']\n",
    "\n",
    "# Using reduce() and join() to concatenate the strings\n",
    "concatenated_string = reduce(lambda x, y: x + ' ' + y, strings)\n",
    "print(concatenated_string)"
   ]
  },
  {
   "cell_type": "code",
   "execution_count": 89,
   "id": "99245577-ce22-4945-a3de-bc5a1c8ee326",
   "metadata": {},
   "outputs": [],
   "source": [
    "#Write a Python program that calculates the factorial of a number using the `reduce()` function."
   ]
  },
  {
   "cell_type": "code",
   "execution_count": 91,
   "id": "d4e88ce3-4183-4314-b5c3-dada3ea6ac7c",
   "metadata": {},
   "outputs": [
    {
     "name": "stdout",
     "output_type": "stream",
     "text": [
      "120\n"
     ]
    }
   ],
   "source": [
    "from functools import reduce\n",
    "\n",
    "def multiply(x, y):\n",
    "    return x * y\n",
    "\n",
    "number = 5\n",
    "\n",
    "# Using reduce() to calculate the factorial\n",
    "factorial = reduce(multiply, range(1, number+1))\n",
    "print(factorial)"
   ]
  },
  {
   "cell_type": "code",
   "execution_count": 92,
   "id": "97150e32-b185-4447-a4b5-aa034133c5f4",
   "metadata": {},
   "outputs": [],
   "source": [
    "#Create a Python program that uses `reduce()` to find the GCD (Greatest Common Divisor) of a list of numbers."
   ]
  },
  {
   "cell_type": "code",
   "execution_count": 93,
   "id": "b20b12fc-16b0-428f-80f7-a1a6799594a5",
   "metadata": {},
   "outputs": [
    {
     "name": "stdout",
     "output_type": "stream",
     "text": [
      "12\n"
     ]
    }
   ],
   "source": [
    "from functools import reduce\n",
    "import math\n",
    "\n",
    "numbers = [12, 24, 36, 48, 60]\n",
    "\n",
    "# Using reduce() and math.gcd() to find the GCD\n",
    "gcd = reduce(math.gcd, numbers)\n",
    "print(gcd)"
   ]
  },
  {
   "cell_type": "code",
   "execution_count": 94,
   "id": "8345ad27-388a-4d94-8732-878f3a0bf9d3",
   "metadata": {},
   "outputs": [],
   "source": [
    "#Write a Python program that uses the `reduce()` function to find the sum of the digits of a given number."
   ]
  },
  {
   "cell_type": "code",
   "execution_count": 95,
   "id": "48fa1f91-6254-49fd-beb7-7142221fc755",
   "metadata": {},
   "outputs": [
    {
     "name": "stdout",
     "output_type": "stream",
     "text": [
      "15\n"
     ]
    }
   ],
   "source": [
    "from functools import reduce\n",
    "\n",
    "number = 12345\n",
    "\n",
    "# Using reduce() and lambda function to find the sum of digits\n",
    "digit_sum = reduce(lambda x, y: int(x) + int(y), str(number))\n",
    "print(digit_sum)"
   ]
  },
  {
   "cell_type": "code",
   "execution_count": 96,
   "id": "2e978163-7cf3-4d18-b872-e56726ad50ec",
   "metadata": {},
   "outputs": [],
   "source": [
    "#Explain the purpose of the `filter()` function in Python and provide an example of how it can be used to filter elements from an iterable."
   ]
  },
  {
   "cell_type": "code",
   "execution_count": 98,
   "id": "7e750fa6-ce84-4f6c-9b1d-78c693b6e166",
   "metadata": {},
   "outputs": [
    {
     "name": "stdout",
     "output_type": "stream",
     "text": [
      "[2, 4, 6, 8, 10]\n"
     ]
    }
   ],
   "source": [
    "# Function to check if a number is even\n",
    "def is_even(num):\n",
    "    return num % 2 == 0\n",
    "\n",
    "numbers = [1, 2, 3, 4, 5, 6, 7, 8, 9, 10]\n",
    "\n",
    "# Using filter() to select even numbers from the list\n",
    "even_numbers = list(filter(is_even, numbers))\n",
    "print(even_numbers)"
   ]
  },
  {
   "cell_type": "code",
   "execution_count": 99,
   "id": "d03e21a1-32d0-4944-b08c-4682e6779f26",
   "metadata": {},
   "outputs": [],
   "source": [
    "#Write a Python program that uses the `filter()` function to select even numbers from a list of integers."
   ]
  },
  {
   "cell_type": "code",
   "execution_count": 100,
   "id": "3e6c2575-69b9-4ecb-adc5-80f8117e4519",
   "metadata": {},
   "outputs": [
    {
     "name": "stdout",
     "output_type": "stream",
     "text": [
      "[2, 4, 6, 8, 10]\n"
     ]
    }
   ],
   "source": [
    "numbers = [1, 2, 3, 4, 5, 6, 7, 8, 9, 10]\n",
    "\n",
    "# Using filter() and lambda function to select even numbers\n",
    "even_numbers = list(filter(lambda x: x % 2 == 0, numbers))\n",
    "print(even_numbers)"
   ]
  },
  {
   "cell_type": "code",
   "execution_count": 101,
   "id": "8951cff2-7d47-43f9-92c8-246bb472133d",
   "metadata": {},
   "outputs": [],
   "source": [
    "#Create a Python program that uses the `filter()` function to select names that start with a specific letter from a list of strings."
   ]
  },
  {
   "cell_type": "code",
   "execution_count": 102,
   "id": "b6861f68-2b71-496a-92fd-013174ceedf5",
   "metadata": {},
   "outputs": [
    {
     "name": "stdout",
     "output_type": "stream",
     "text": [
      "['Bob']\n"
     ]
    }
   ],
   "source": [
    "names = ['John', 'Alice', 'Bob', 'Charlie', 'David']\n",
    "\n",
    "# Function to check if a name starts with a specific letter\n",
    "def starts_with(letter):\n",
    "    return lambda name: name.startswith(letter)\n",
    "\n",
    "letter = 'B'\n",
    "\n",
    "# Using filter() and starts_with() function to select names starting with the specified letter\n",
    "filtered_names = list(filter(starts_with(letter), names))\n",
    "print(filtered_names)"
   ]
  },
  {
   "cell_type": "code",
   "execution_count": 103,
   "id": "1b65b75a-a1df-4739-8cb6-3c3ece0cec65",
   "metadata": {},
   "outputs": [],
   "source": [
    "#Write a Python program that uses the `filter()` function to select prime numbers from a list of integers."
   ]
  },
  {
   "cell_type": "code",
   "execution_count": 104,
   "id": "dedc3d69-926b-458a-9637-d1ee69cf2d75",
   "metadata": {},
   "outputs": [
    {
     "name": "stdout",
     "output_type": "stream",
     "text": [
      "[2, 3, 5, 7, 11]\n"
     ]
    }
   ],
   "source": [
    "from math import sqrt\n",
    "\n",
    "numbers = [2, 3, 4, 5, 6, 7, 8, 9, 10, 11, 12]\n",
    "\n",
    "# Function to check if a number is prime\n",
    "def is_prime(num):\n",
    "    if num < 2:\n",
    "        return False\n",
    "    for i in range(2, int(sqrt(num)) + 1):\n",
    "        if num % i == 0:\n",
    "            return False\n",
    "    return True\n",
    "\n",
    "# Using filter() and is_prime() function to select prime numbers\n",
    "prime_numbers = list(filter(is_prime, numbers))\n",
    "print(prime_numbers)"
   ]
  },
  {
   "cell_type": "code",
   "execution_count": 105,
   "id": "c715631e-bcf5-4846-9404-c96f7b4ca176",
   "metadata": {},
   "outputs": [],
   "source": [
    "#How can you use the `filter()` function to remove None values from a list in Python?"
   ]
  },
  {
   "cell_type": "code",
   "execution_count": 106,
   "id": "250a5894-ad84-4424-9145-c91be59dc14b",
   "metadata": {},
   "outputs": [
    {
     "name": "stdout",
     "output_type": "stream",
     "text": [
      "[1, 3, 5, 7, 9]\n"
     ]
    }
   ],
   "source": [
    "values = [1, None, 3, None, 5, None, 7, None, 9]\n",
    "\n",
    "# Using filter() and lambda function to remove None values\n",
    "filtered_values = list(filter(lambda x: x is not None, values))\n",
    "print(filtered_values)"
   ]
  },
  {
   "cell_type": "code",
   "execution_count": 107,
   "id": "4229ac30-4971-43a4-9511-e2521cd7a28a",
   "metadata": {},
   "outputs": [],
   "source": [
    "#Create a Python program that uses `filter()` to select words longer than a certain length from a list of strings."
   ]
  },
  {
   "cell_type": "code",
   "execution_count": 108,
   "id": "e37a9228-af0f-4028-83e5-af2d39ddee35",
   "metadata": {},
   "outputs": [
    {
     "name": "stdout",
     "output_type": "stream",
     "text": [
      "['apple', 'banana', 'elephant']\n"
     ]
    }
   ],
   "source": [
    "words = ['apple', 'banana', 'car', 'elephant', 'dog', 'cat']\n",
    "\n",
    "# Function to check if a word is longer than a certain length\n",
    "def is_longer_than(length):\n",
    "    return lambda word: len(word) > length\n",
    "\n",
    "length = 4\n",
    "\n",
    "# Using filter() and is_longer_than() function to select words longer than the specified length\n",
    "filtered_words = list(filter(is_longer_than(length), words))\n",
    "print(filtered_words)"
   ]
  },
  {
   "cell_type": "code",
   "execution_count": 109,
   "id": "750fce15-113f-4be7-84cf-1d87d17255d5",
   "metadata": {},
   "outputs": [],
   "source": [
    "#Write a Python program that uses the `filter()` function to select elements greater than a specified threshold from a list of values.\n"
   ]
  },
  {
   "cell_type": "code",
   "execution_count": 110,
   "id": "b8f13f1f-248f-4691-8bea-613b77eec2c2",
   "metadata": {},
   "outputs": [
    {
     "name": "stdout",
     "output_type": "stream",
     "text": [
      "[30, 35, 40]\n"
     ]
    }
   ],
   "source": [
    "values = [10, 15, 20, 25, 30, 35, 40]\n",
    "threshold = 25\n",
    "\n",
    "# Function to check if a value is greater than the threshold\n",
    "def greater_than_threshold(value):\n",
    "    return value > threshold\n",
    "\n",
    "# Using filter() and greater_than_threshold() function to select elements greater than the threshold\n",
    "filtered_values = list(filter(greater_than_threshold, values))\n",
    "print(filtered_values)"
   ]
  },
  {
   "cell_type": "code",
   "execution_count": 111,
   "id": "4b3249b2-1958-4447-8b45-916a09fcd172",
   "metadata": {},
   "outputs": [],
   "source": [
    "#Explain the concept of recursion in Python. How does it differ from iteration?"
   ]
  },
  {
   "cell_type": "code",
   "execution_count": 113,
   "id": "456eb5c3-22e7-47f6-bcc2-7c1c80116b31",
   "metadata": {},
   "outputs": [],
   "source": [
    "#Recursion in Python is the process of a function calling itself repeatedly until a specific condition is met. It is a programming technique where a problem is divided into smaller subproblems of the same type. Recursion differs from iteration in that iteration uses loops to repeat a block of code, while recursion uses function calls to repeat the code."
   ]
  },
  {
   "cell_type": "code",
   "execution_count": 114,
   "id": "cf1a0d74-48ba-47e7-9dce-951852f08230",
   "metadata": {},
   "outputs": [],
   "source": [
    "#Write a Python program to calculate the factorial of a number using recursion.\n"
   ]
  },
  {
   "cell_type": "code",
   "execution_count": 115,
   "id": "be0a8fa5-64c7-47aa-8c89-f0ed2ad73711",
   "metadata": {},
   "outputs": [
    {
     "name": "stdout",
     "output_type": "stream",
     "text": [
      "The factorial of 5 is 120\n"
     ]
    }
   ],
   "source": [
    "def factorial(n):\n",
    "    if n == 0:\n",
    "        return 1\n",
    "    else:\n",
    "        return n * factorial(n-1)\n",
    "\n",
    "number = 5\n",
    "result = factorial(number)\n",
    "print(f\"The factorial of {number} is {result}\")"
   ]
  },
  {
   "cell_type": "code",
   "execution_count": 116,
   "id": "e534b236-3ff6-4ab2-bc1c-cf76ec2dca47",
   "metadata": {},
   "outputs": [],
   "source": [
    "#Create a recursive Python function to find the nth Fibonacci number.\n"
   ]
  },
  {
   "cell_type": "code",
   "execution_count": 117,
   "id": "ccd55aac-39da-4614-8e1a-ce83ae06c18b",
   "metadata": {},
   "outputs": [
    {
     "name": "stdout",
     "output_type": "stream",
     "text": [
      "The 6th Fibonacci number is 8\n"
     ]
    }
   ],
   "source": [
    "def fibonacci(n):\n",
    "    if n <= 1:\n",
    "        return n\n",
    "    else:\n",
    "        return fibonacci(n-1) + fibonacci(n-2)\n",
    "\n",
    "number = 6\n",
    "result = fibonacci(number)\n",
    "print(f\"The {number}th Fibonacci number is {result}\")"
   ]
  },
  {
   "cell_type": "code",
   "execution_count": 118,
   "id": "0dbb7335-9e41-42ed-8756-e6a3bbfcf4d8",
   "metadata": {},
   "outputs": [],
   "source": [
    "#Write a recursive Python function to calculate the sum of all elements in a list."
   ]
  },
  {
   "cell_type": "code",
   "execution_count": 119,
   "id": "cbec2613-1a00-4392-8e0a-517277ab31d2",
   "metadata": {},
   "outputs": [
    {
     "name": "stdout",
     "output_type": "stream",
     "text": [
      "The sum of elements in the list [1, 2, 3, 4, 5] is 15\n"
     ]
    }
   ],
   "source": [
    "def list_sum(numbers):\n",
    "    if len(numbers) == 0:\n",
    "        return 0\n",
    "    else:\n",
    "        return numbers[0] + list_sum(numbers[1:])\n",
    "\n",
    "num_list = [1, 2, 3, 4, 5]\n",
    "result = list_sum(num_list)\n",
    "print(f\"The sum of elements in the list {num_list} is {result}\")"
   ]
  },
  {
   "cell_type": "code",
   "execution_count": 120,
   "id": "a4a66669-00f4-42dd-8484-3cbce531361b",
   "metadata": {},
   "outputs": [],
   "source": [
    "#How can you prevent a recursive function from running indefinitely, causing a stack overflow error?"
   ]
  },
  {
   "cell_type": "code",
   "execution_count": 121,
   "id": "f5f8be2f-c191-4304-b4bc-9748325c350b",
   "metadata": {},
   "outputs": [],
   "source": [
    "#To prevent a recursive function from running indefinitely and causing a stack overflow error, you can set a base case or condition that will terminate the recursion. The base case should be a condition that stops the function from calling itself and returns a specific value. This ensures that the recursion eventually reaches a point where it stops and returns a value, preventing infinite recursion.\n"
   ]
  },
  {
   "cell_type": "code",
   "execution_count": 122,
   "id": "576525fe-3412-4e4d-aa15-fd7f9e9d2670",
   "metadata": {},
   "outputs": [],
   "source": [
    "#Create a recursive Python function to find the greatest common divisor (GCD) of two numbers using the Euclidean algorithm."
   ]
  },
  {
   "cell_type": "code",
   "execution_count": 123,
   "id": "f3cfb4ba-a040-4e12-a6cd-a5ce754d7e58",
   "metadata": {},
   "outputs": [
    {
     "name": "stdout",
     "output_type": "stream",
     "text": [
      "The GCD of 54 and 24 is 6\n"
     ]
    }
   ],
   "source": [
    "def gcd(a, b):\n",
    "    if b == 0:\n",
    "        return a\n",
    "    else:\n",
    "        return gcd(b, a % b)\n",
    "\n",
    "num1 = 54\n",
    "num2 = 24\n",
    "result = gcd(num1, num2)\n",
    "print(f\"The GCD of {num1} and {num2} is {result}\")"
   ]
  },
  {
   "cell_type": "code",
   "execution_count": 124,
   "id": "d8aece2a-2107-4c99-835b-88ff3d5e44f2",
   "metadata": {},
   "outputs": [],
   "source": [
    "#Write a recursive Python function to reverse a string."
   ]
  },
  {
   "cell_type": "code",
   "execution_count": 125,
   "id": "3f1fc313-0819-455b-89c0-8b414ebbeba5",
   "metadata": {},
   "outputs": [
    {
     "name": "stdout",
     "output_type": "stream",
     "text": [
      "The reversed string is: !dlroW ,olleH\n"
     ]
    }
   ],
   "source": [
    "def reverse_string(string):\n",
    "    if len(string) == 0:\n",
    "        return \"\"\n",
    "    else:\n",
    "        return reverse_string(string[1:]) + string[0]\n",
    "\n",
    "text = \"Hello, World!\"\n",
    "result = reverse_string(text)\n",
    "print(f\"The reversed string is: {result}\")"
   ]
  },
  {
   "cell_type": "code",
   "execution_count": 126,
   "id": "36372dc5-73dd-4c25-bbee-30fbed59f6ac",
   "metadata": {},
   "outputs": [],
   "source": [
    "#Create a recursive Python function to calculate the power of a number (x^n).\n"
   ]
  },
  {
   "cell_type": "code",
   "execution_count": 127,
   "id": "99cfa556-ba20-4c7c-a5f2-7b41a709136d",
   "metadata": {},
   "outputs": [
    {
     "name": "stdout",
     "output_type": "stream",
     "text": [
      "The result of 2 raised to the power of 5 is 32\n"
     ]
    }
   ],
   "source": [
    "def power(base, exponent):\n",
    "    if exponent == 0:\n",
    "        return 1\n",
    "    else:\n",
    "        return base * power(base, exponent-1)\n",
    "\n",
    "base_num = 2\n",
    "exp_num = 5\n",
    "result = power(base_num, exp_num)\n",
    "print(f\"The result of {base_num} raised to the power of {exp_num} is {result}\")"
   ]
  },
  {
   "cell_type": "code",
   "execution_count": 128,
   "id": "12dc5616-8361-4328-a665-7bbac2669038",
   "metadata": {},
   "outputs": [],
   "source": [
    "#Write a recursive Python function to find all permutations of a given string."
   ]
  },
  {
   "cell_type": "code",
   "execution_count": 129,
   "id": "f2816e8a-c6eb-4c93-ba9e-218c9a682b06",
   "metadata": {},
   "outputs": [
    {
     "name": "stdout",
     "output_type": "stream",
     "text": [
      "All permutations of ABC are: ['ABC', 'ACB', 'BAC', 'BCA', 'CAB', 'CBA']\n"
     ]
    }
   ],
   "source": [
    "def string_permutations(string):\n",
    "    if len(string) == 0:\n",
    "        return []\n",
    "    elif len(string) == 1:\n",
    "        return [string]\n",
    "    else:\n",
    "        permutations = []\n",
    "        for i in range(len(string)):\n",
    "            char = string[i]\n",
    "            remaining_chars = string[:i] + string[i+1:]\n",
    "            for perm in string_permutations(remaining_chars):\n",
    "                permutations.append(char + perm)\n",
    "        return permutations\n",
    "\n",
    "text = \"ABC\"\n",
    "result = string_permutations(text)\n",
    "print(f\"All permutations of {text} are: {result}\")"
   ]
  },
  {
   "cell_type": "code",
   "execution_count": 130,
   "id": "b3eda0a5-ba3f-4fa1-aa0a-50acc0c73231",
   "metadata": {},
   "outputs": [],
   "source": [
    "#Write a recursive Python function to check if a string is a palindrome."
   ]
  },
  {
   "cell_type": "code",
   "execution_count": 138,
   "id": "926ec094-b4a2-4c56-be20-bb498f999d61",
   "metadata": {},
   "outputs": [
    {
     "name": "stdout",
     "output_type": "stream",
     "text": [
      "racecar is a palindrome\n"
     ]
    }
   ],
   "source": [
    "def is_palindrome(string):\n",
    "    if len(string) <= 1:\n",
    "        return True\n",
    "    elif string[0] != string[len(string)-1]:\n",
    "        return False\n",
    "    else:\n",
    "        return is_palindrome(string[1:len(string)-1])\n",
    "\n",
    "text = \"racecar\"\n",
    "result = is_palindrome(text)\n",
    "if result:\n",
    "    print(f\"{text} is a palindrome\")\n",
    "else:\n",
    "    print(f\"{text} is not a palindrome\")"
   ]
  },
  {
   "cell_type": "code",
   "execution_count": 139,
   "id": "ab53e287-5f5b-454f-a479-a01c98c51bdc",
   "metadata": {},
   "outputs": [],
   "source": [
    "#Create a recursive Python function to generate all possible combinations of a list of elements."
   ]
  },
  {
   "cell_type": "code",
   "execution_count": 140,
   "id": "4300dc7e-2bfa-43b3-b346-84d0a3fbf8a1",
   "metadata": {},
   "outputs": [
    {
     "name": "stdout",
     "output_type": "stream",
     "text": [
      "All possible combinations of ['A', 'B', 'C'] are: [[], ['A'], ['B'], ['A', 'B'], ['C'], ['A', 'C'], ['B', 'C'], ['A', 'B', 'C']]\n"
     ]
    }
   ],
   "source": [
    "def combinations(elements):\n",
    "    if len(elements) == 0:\n",
    "        return [[]]\n",
    "    else:\n",
    "        current = elements[0]\n",
    "        remaining = elements[1:]\n",
    "        sub_combinations = combinations(remaining)\n",
    "        new_combinations = []\n",
    "        for combo in sub_combinations:\n",
    "            new_combinations.append(combo)\n",
    "            new_combinations.append([current] + combo)\n",
    "        return new_combinations\n",
    "\n",
    "items = ['A', 'B', 'C']\n",
    "result = combinations(items)\n",
    "print(f\"All possible combinations of {items} are: {result}\")"
   ]
  },
  {
   "cell_type": "code",
   "execution_count": 141,
   "id": "6fd62ad4-c832-4812-9803-f686af06e796",
   "metadata": {},
   "outputs": [],
   "source": [
    "#What is a function in Python, and why is it used?\n",
    "###A function in Python is a block of reusable code that performs a specific task. It is used to break down complex problems into smaller, manageable parts, making code more organized, modular, and reusable."
   ]
  },
  {
   "cell_type": "code",
   "execution_count": 142,
   "id": "26b9a913-7c5a-4fa2-aaf6-3feeffa34d52",
   "metadata": {},
   "outputs": [],
   "source": [
    "#How do you define a function in Python? Provide an example."
   ]
  },
  {
   "cell_type": "code",
   "execution_count": 143,
   "id": "76402a5d-da15-4ce6-a16b-144c69ae3b8d",
   "metadata": {},
   "outputs": [
    {
     "name": "stdout",
     "output_type": "stream",
     "text": [
      "Hello, World!\n"
     ]
    }
   ],
   "source": [
    "def greet():\n",
    "    print(\"Hello, World!\")\n",
    "\n",
    "greet()"
   ]
  },
  {
   "cell_type": "code",
   "execution_count": 144,
   "id": "e2d20259-9b02-4169-b2a8-d691e7cbdc79",
   "metadata": {},
   "outputs": [],
   "source": [
    "#Explain the difference between a function definition and a function call."
   ]
  },
  {
   "cell_type": "code",
   "execution_count": 145,
   "id": "a63e7cce-be98-43e0-badc-9891b11189ed",
   "metadata": {},
   "outputs": [],
   "source": [
    "def greet():\n",
    "    print(\"Hello, World!\")"
   ]
  },
  {
   "cell_type": "code",
   "execution_count": 147,
   "id": "f2b319b4-b8a8-49fe-8bc9-75ef967775d9",
   "metadata": {},
   "outputs": [
    {
     "name": "stdout",
     "output_type": "stream",
     "text": [
      "Hello, World!\n"
     ]
    }
   ],
   "source": [
    "greet()"
   ]
  },
  {
   "cell_type": "code",
   "execution_count": 148,
   "id": "dfa4cd63-e964-46a1-99f3-09380107d29c",
   "metadata": {},
   "outputs": [],
   "source": [
    "#Write a Python program that defines a function to calculate the sum of two numbers and then calls the function.#"
   ]
  },
  {
   "cell_type": "code",
   "execution_count": 149,
   "id": "e3f37fa6-9368-485f-8f8b-d00724b918e8",
   "metadata": {},
   "outputs": [
    {
     "name": "stdout",
     "output_type": "stream",
     "text": [
      "The sum is 15\n"
     ]
    }
   ],
   "source": [
    "def add_numbers(num1, num2):\n",
    "    sum = num1 + num2\n",
    "    return sum\n",
    "\n",
    "result = add_numbers(5, 10)\n",
    "print(f\"The sum is {result}\")"
   ]
  },
  {
   "cell_type": "code",
   "execution_count": 150,
   "id": "909a794f-e360-4760-b806-106597f81de8",
   "metadata": {},
   "outputs": [],
   "source": [
    "#What is a function signature, and what information does it typically include?"
   ]
  },
  {
   "cell_type": "code",
   "execution_count": 155,
   "id": "059e8f91-d3b4-4028-ba7c-b32d1b9752ff",
   "metadata": {},
   "outputs": [
    {
     "name": "stdout",
     "output_type": "stream",
     "text": [
      "35\n"
     ]
    }
   ],
   "source": [
    "# Function definition\n",
    "def multiply(num1: int, num2: int) -> int:\n",
    "   \n",
    "    product = num1 * num2\n",
    "    return product\n",
    "\n",
    "# Function call\n",
    "result = multiply(5, 7)\n",
    "print(result)"
   ]
  },
  {
   "cell_type": "code",
   "execution_count": 156,
   "id": "0750fad8-f04a-47d3-afbf-ce89dc67cdd1",
   "metadata": {},
   "outputs": [],
   "source": [
    "#Create a Python function that takes two arguments and returns their product."
   ]
  },
  {
   "cell_type": "code",
   "execution_count": 157,
   "id": "7993dcb9-c50c-45f8-b29b-3e95597308f6",
   "metadata": {},
   "outputs": [
    {
     "name": "stdout",
     "output_type": "stream",
     "text": [
      "The product is 50\n"
     ]
    }
   ],
   "source": [
    "def multiply(num1: int, num2: int) -> int:\n",
    "    return num1 * num2\n",
    "\n",
    "result = multiply(5, 10)\n",
    "print(f\"The product is {result}\")"
   ]
  },
  {
   "cell_type": "code",
   "execution_count": 158,
   "id": "5c76a05c-2dab-473a-830f-dafd654dc4c2",
   "metadata": {},
   "outputs": [],
   "source": [
    "#Function Parameters and Arguments:\n"
   ]
  },
  {
   "cell_type": "code",
   "execution_count": 159,
   "id": "690e1cff-af4f-4d92-833c-aabab16f92bc",
   "metadata": {},
   "outputs": [],
   "source": [
    "#Explain the concepts of formal parameters and actual arguments in Python functions."
   ]
  },
  {
   "cell_type": "code",
   "execution_count": 6,
   "id": "6086a81c-4176-4a3c-8dca-6f6b030ae794",
   "metadata": {},
   "outputs": [
    {
     "name": "stdout",
     "output_type": "stream",
     "text": [
      "Hello, Anonymous!\n",
      "Hello, John!\n"
     ]
    }
   ],
   "source": [
    "#Formal parameters in Python functions are the placeholders used in the function definition to represent the values that will be passed as arguments when the function is called. They act as variables within the function's scope and are assigned the values of the actual arguments provided during the function call. Actual arguments, on the other hand, are the values that are passed to a function when it is called. They can be literals, variables, or expressions.\n",
    "#Here's an example of a Python function with default argument values:\n",
    "\n",
    "\n",
    "def greet(name='Anonymous'):\n",
    "\n",
    "#    This function takes a name as an argument and greets the person.\n",
    "   # If no name is provided, it defaults to 'Anonymous'.\n",
    "    print(f\"Hello, {name}!\")\n",
    "\n",
    "# Function call with default argument\n",
    "greet()  # Output: Hello, Anonymous!\n",
    "\n",
    "# Function call with explicit argument\n",
    "greet(\"John\")  # Output: Hello, John!"
   ]
  },
  {
   "cell_type": "code",
   "execution_count": 7,
   "id": "b72ce5c4-7cb4-464a-a67f-1e11ad173366",
   "metadata": {},
   "outputs": [],
   "source": [
    "#How do you use keyword arguments in Python function calls? Provide an example."
   ]
  },
  {
   "cell_type": "code",
   "execution_count": 8,
   "id": "dea9c837-751c-4b9a-9c08-4d6d472a6406",
   "metadata": {},
   "outputs": [
    {
     "name": "stdout",
     "output_type": "stream",
     "text": [
      "50\n"
     ]
    }
   ],
   "source": [
    "\n",
    "def calculate_total(price, quantity):\n",
    "   # This function calculates the total cost based on the price and quantity provided.\n",
    "    total = price * quantity\n",
    "    return total\n",
    "\n",
    "# Function call using keyword arguments\n",
    "result = calculate_total(price=10, quantity=5)\n",
    "print(result) "
   ]
  },
  {
   "cell_type": "code",
   "execution_count": 9,
   "id": "44142230-8279-4d23-bd52-19e88f7e1207",
   "metadata": {},
   "outputs": [],
   "source": [
    "#Create a Python function that accepts a variable number of arguments and calculates their sum."
   ]
  },
  {
   "cell_type": "code",
   "execution_count": 10,
   "id": "42efe298-0835-487f-951a-9f6ce56705f6",
   "metadata": {},
   "outputs": [
    {
     "name": "stdout",
     "output_type": "stream",
     "text": [
      "6\n",
      "150\n"
     ]
    }
   ],
   "source": [
    "def calculate_sum(*args):\n",
    "   # This function takes a variable number of arguments and calculates their sum.\n",
    "    total = sum(args)\n",
    "    return total\n",
    "\n",
    "# Function call with different number of arguments\n",
    "result1 = calculate_sum(1, 2, 3)\n",
    "result2 = calculate_sum(10, 20, 30, 40, 50)\n",
    "print(result1)  # Output: 6\n",
    "print(result2)  # Output: 150"
   ]
  },
  {
   "cell_type": "code",
   "execution_count": 11,
   "id": "e87aa351-66f8-4fdd-8067-9c100a8f2fcc",
   "metadata": {},
   "outputs": [],
   "source": [
    "#What is the purpose of the `*args` and `**kwargs` syntax in function parameter lists?"
   ]
  },
  {
   "cell_type": "code",
   "execution_count": 12,
   "id": "629d4842-6975-431d-98fd-f3f7a3e0556a",
   "metadata": {},
   "outputs": [
    {
     "name": "stdout",
     "output_type": "stream",
     "text": [
      "(1, 2, 3)\n",
      "{'name': 'John', 'age': 25}\n"
     ]
    }
   ],
   "source": [
    "def example_function(*args, **kwargs):\n",
    "   # This function demonstrates the use of *args and **kwargs.\n",
    "    print(args)   # Output: (1, 2, 3)\n",
    "    print(kwargs)  # Output: {'name': 'John', 'age': 25}\n",
    "\n",
    "# Function call with positional and keyword arguments\n",
    "example_function(1, 2, 3, name='John', age=25)"
   ]
  },
  {
   "cell_type": "code",
   "execution_count": 14,
   "id": "ec191905-b4d5-49ed-8870-65c53e35f343",
   "metadata": {},
   "outputs": [],
   "source": [
    "#Return Values and Scoping:\n"
   ]
  },
  {
   "cell_type": "code",
   "execution_count": 15,
   "id": "0ffa3bae-4fab-42cf-bf2a-7b4e0538dfd3",
   "metadata": {},
   "outputs": [],
   "source": [
    "#Describe the role of the `return` statement in Python functions and provide examples."
   ]
  },
  {
   "cell_type": "code",
   "execution_count": 16,
   "id": "7cbab739-471b-4248-9f37-1c1b0345b2b5",
   "metadata": {},
   "outputs": [
    {
     "name": "stdout",
     "output_type": "stream",
     "text": [
      "8\n"
     ]
    }
   ],
   "source": [
    "def add_numbers(a, b):\n",
    "    \"\"\"\n",
    "    This function adds two numbers and returns the sum.\n",
    "    \"\"\"\n",
    "    return a + b\n",
    "\n",
    "result = add_numbers(5, 3)\n",
    "print(result)  "
   ]
  },
  {
   "cell_type": "code",
   "execution_count": 17,
   "id": "5545e377-a793-4d29-8b5e-92e8db6ec5c5",
   "metadata": {},
   "outputs": [],
   "source": [
    "#Explain the concept of variable scope in Python, including local and global variables."
   ]
  },
  {
   "cell_type": "code",
   "execution_count": 18,
   "id": "961cac4b-e660-43b4-a752-28ce5ae43d96",
   "metadata": {},
   "outputs": [],
   "source": [
    "#Variable scope in Python refers to the visibility and accessibility of variables. Python has two main types of variable scope: local and global.\n",
    "\n",
    "#- Local variables are defined within a specific function or block of code. They are only accessible within that function or block and cannot be accessed outside of it.\n",
    "\n",
    "#- Global variables are defined outside of any function or block. They can be accessed by any function or block within the program."
   ]
  },
  {
   "cell_type": "code",
   "execution_count": 19,
   "id": "9c940c68-cd71-43ea-8394-77c5df8086dd",
   "metadata": {},
   "outputs": [],
   "source": [
    "#Write a Python program that demonstrates the use of global variables within functions."
   ]
  },
  {
   "cell_type": "code",
   "execution_count": 20,
   "id": "d5e59b31-c9e3-4ebe-8c8a-aab29e4fba43",
   "metadata": {},
   "outputs": [
    {
     "name": "stdout",
     "output_type": "stream",
     "text": [
      "11\n"
     ]
    }
   ],
   "source": [
    "global_var = 10\n",
    "\n",
    "def increment():\n",
    "    global global_var\n",
    "    global_var += 1\n",
    "\n",
    "def print_global():\n",
    "    print(global_var)\n",
    "\n",
    "increment()\n",
    "print_global() "
   ]
  },
  {
   "cell_type": "code",
   "execution_count": 21,
   "id": "ff2e3b37-394f-4985-bf26-8dceb89883f3",
   "metadata": {},
   "outputs": [],
   "source": [
    "#Create a Python function that calculates the factorial of a number and returns it."
   ]
  },
  {
   "cell_type": "code",
   "execution_count": 22,
   "id": "8d311f80-0188-4c9d-8a52-6246ea17ce40",
   "metadata": {},
   "outputs": [
    {
     "name": "stdout",
     "output_type": "stream",
     "text": [
      "120\n"
     ]
    }
   ],
   "source": [
    "def factorial(n):\n",
    "    \"\"\"\n",
    "    This function calculates the factorial of a number.\n",
    "    \"\"\"\n",
    "    if n == 0:\n",
    "        return 1\n",
    "    else:\n",
    "        return n * factorial(n-1)\n",
    "\n",
    "result = factorial(5)\n",
    "print(result)  "
   ]
  },
  {
   "cell_type": "code",
   "execution_count": 23,
   "id": "d48fa227-e074-41cc-8fb7-64aac49fcd17",
   "metadata": {},
   "outputs": [],
   "source": [
    "#How can you access variables defined outside a function from within the function?"
   ]
  },
  {
   "cell_type": "code",
   "execution_count": 24,
   "id": "1155c1c6-94a5-49a2-8233-2c9470f81fc8",
   "metadata": {},
   "outputs": [
    {
     "name": "stdout",
     "output_type": "stream",
     "text": [
      "15\n"
     ]
    }
   ],
   "source": [
    "global_var = 10\n",
    "\n",
    "def modify_global():\n",
    "    global global_var\n",
    "    global_var += 5\n",
    "\n",
    "modify_global()\n",
    "print(global_var) "
   ]
  },
  {
   "cell_type": "code",
   "execution_count": 25,
   "id": "e514a209-c3d2-44df-8c36-86793c49e0f6",
   "metadata": {},
   "outputs": [],
   "source": [
    "#Lambda Functions and Higher-Order Functions:"
   ]
  },
  {
   "cell_type": "code",
   "execution_count": 26,
   "id": "b02b3905-e486-4483-a85d-01f2b3950b19",
   "metadata": {},
   "outputs": [],
   "source": [
    "#What are lambda functions in Python, and when are they typically used?"
   ]
  },
  {
   "cell_type": "code",
   "execution_count": 27,
   "id": "e5c7f1ff-a472-4621-84db-a8d29ef881d0",
   "metadata": {},
   "outputs": [],
   "source": [
    "# Lambda functions, also known as anonymous functions, are small, single-expression functions that can be defined without a name. They are typically used when a function is needed for a short period of time and doesn't require a separate definition. Lambda functions are commonly used in conjunction with higher-order functions, such as 'map()', 'filter()', and 'reduce()'."
   ]
  },
  {
   "cell_type": "code",
   "execution_count": 28,
   "id": "dccdad21-43f7-4c1c-be9f-a41c83e453c0",
   "metadata": {},
   "outputs": [],
   "source": [
    "#Write a Python program that uses lambda functions to sort a list of tuples based on the second element."
   ]
  },
  {
   "cell_type": "code",
   "execution_count": 31,
   "id": "7de29e02-f870-47e8-8716-3e1e730779f1",
   "metadata": {},
   "outputs": [
    {
     "name": "stdout",
     "output_type": "stream",
     "text": [
      "[(4, 1), (1, 3), (2, 5), (3, 9)]\n"
     ]
    }
   ],
   "source": [
    "my_list = [(2, 5), (1, 3), (4, 1), (3, 9)]\n",
    "sorted_list = sorted(my_list, key=lambda x: x[1])\n",
    "print(sorted_list)"
   ]
  },
  {
   "cell_type": "code",
   "execution_count": 30,
   "id": "de635374-f3b9-45b1-be02-ff2f1880ecec",
   "metadata": {},
   "outputs": [],
   "source": [
    "#Explain the concept of higher-order functions in Python, and provide an example."
   ]
  },
  {
   "cell_type": "code",
   "execution_count": 32,
   "id": "e93ea6c6-0149-4262-846e-fc813990c40c",
   "metadata": {},
   "outputs": [
    {
     "name": "stdout",
     "output_type": "stream",
     "text": [
      "[1, 4, 9, 16, 25]\n"
     ]
    }
   ],
   "source": [
    "def square(n):\n",
    "    return n ** 2\n",
    "\n",
    "numbers = [1, 2, 3, 4, 5]\n",
    "squared_numbers = map(square, numbers)\n",
    "print(list(squared_numbers))  "
   ]
  },
  {
   "cell_type": "code",
   "execution_count": 33,
   "id": "5adbd9b7-81d6-42f7-b6b0-2e21435e5f70",
   "metadata": {},
   "outputs": [],
   "source": [
    "#Create a Python function that takes a list of numbers and a function as arguments, applying the function to each element in the list."
   ]
  },
  {
   "cell_type": "code",
   "execution_count": 34,
   "id": "184010d2-6798-4c9e-b2f7-c92473329a6e",
   "metadata": {},
   "outputs": [
    {
     "name": "stdout",
     "output_type": "stream",
     "text": [
      "[1, 4, 9, 16, 25]\n"
     ]
    }
   ],
   "source": [
    "def apply_function(numbers, func):\n",
    "    \"\"\"\n",
    "    This function applies the given function to each element in the list of numbers.\n",
    "    \"\"\"\n",
    "    return [func(num) for num in numbers]\n",
    "\n",
    "numbers = [1, 2, 3, 4, 5]\n",
    "squared_numbers = apply_function(numbers, lambda x: x ** 2)\n",
    "print(squared_numbers)  "
   ]
  },
  {
   "cell_type": "code",
   "execution_count": 35,
   "id": "aca189b3-2643-4a54-83cb-28e018b104bd",
   "metadata": {},
   "outputs": [],
   "source": [
    "#Built-in Functions:\n"
   ]
  },
  {
   "cell_type": "code",
   "execution_count": 36,
   "id": "edb5582f-4e1a-46ff-a8b5-1e2a21abd76a",
   "metadata": {},
   "outputs": [],
   "source": [
    "#Describe the role of built-in functions like `len()`, `max()`, and `min()` in Python."
   ]
  },
  {
   "cell_type": "code",
   "execution_count": 37,
   "id": "1db2e365-925d-4575-9e16-d9173ed950c9",
   "metadata": {},
   "outputs": [],
   "source": [
    "#Built-in functions like 'len()', 'max()', and 'min()' in Python provide useful functionality and are pre-defined in the Python standard library.\n",
    "\n",
    "#- 'len()' returns the length of an object, such as a string, list, or tuple.\n",
    "#- 'max()' returns the maximum value from a sequence or a collection of arguments.\n",
    "#- 'min()' returns the minimum value from a sequence or a collection of arguments."
   ]
  },
  {
   "cell_type": "code",
   "execution_count": 38,
   "id": "2c2348d1-721d-46b1-9c38-aa74805dad48",
   "metadata": {},
   "outputs": [],
   "source": [
    "#Write a Python program that uses the `map()` function to apply a function to each element of a list."
   ]
  },
  {
   "cell_type": "code",
   "execution_count": 39,
   "id": "572707b9-f52b-424d-b651-129638d1ced1",
   "metadata": {},
   "outputs": [
    {
     "name": "stdout",
     "output_type": "stream",
     "text": [
      "[1, 4, 9, 16, 25]\n"
     ]
    }
   ],
   "source": [
    "def square(n):\n",
    "    return n ** 2\n",
    "\n",
    "numbers = [1, 2, 3, 4, 5]\n",
    "squared_numbers = list(map(square, numbers))\n",
    "print(squared_numbers)"
   ]
  },
  {
   "cell_type": "code",
   "execution_count": 40,
   "id": "c2337bbe-3617-4a5e-882e-7afeaa6540fd",
   "metadata": {},
   "outputs": [],
   "source": [
    "#How does the `filter()` function work in Python, and when would you use it?"
   ]
  },
  {
   "cell_type": "code",
   "execution_count": 41,
   "id": "ddac650d-803b-47a8-856d-2760b620117e",
   "metadata": {},
   "outputs": [
    {
     "name": "stdout",
     "output_type": "stream",
     "text": [
      "[2, 4]\n"
     ]
    }
   ],
   "source": [
    "def is_even(n):\n",
    "    return n % 2 == 0\n",
    "\n",
    "numbers = [1, 2, 3, 4, 5]\n",
    "even_numbers = list(filter(is_even, numbers))\n",
    "print(even_numbers)"
   ]
  },
  {
   "cell_type": "code",
   "execution_count": 42,
   "id": "322e455e-a1f0-430e-a046-94378e8763fd",
   "metadata": {},
   "outputs": [],
   "source": [
    "#Create a Python program that uses the `reduce()` function to find the product of all elements in a list."
   ]
  },
  {
   "cell_type": "code",
   "execution_count": 43,
   "id": "28745b46-0e00-49e0-b7fd-5e8277e46f97",
   "metadata": {},
   "outputs": [
    {
     "name": "stdout",
     "output_type": "stream",
     "text": [
      "120\n"
     ]
    }
   ],
   "source": [
    "from functools import reduce\n",
    "\n",
    "def multiply(x, y):\n",
    "    return x * y\n",
    "\n",
    "numbers = [1, 2, 3, 4, 5]\n",
    "product = reduce(multiply, numbers)\n",
    "print(product) "
   ]
  },
  {
   "cell_type": "code",
   "execution_count": 44,
   "id": "68aca49d-edce-4ee4-874e-f89b2c44b9b0",
   "metadata": {},
   "outputs": [],
   "source": [
    "#Function Documentation and Best Practices:\n"
   ]
  },
  {
   "cell_type": "code",
   "execution_count": 45,
   "id": "2254f82f-ccd6-4d19-88a7-97871df72cf4",
   "metadata": {},
   "outputs": [],
   "source": [
    "#Explain the purpose of docstrings in Python functions and how to write them."
   ]
  },
  {
   "cell_type": "code",
   "execution_count": 47,
   "id": "fb907c37-cdef-428f-b36b-2a1b6c06e87a",
   "metadata": {},
   "outputs": [],
   "source": [
    "#Docstrings in Python functions provide a way to document the purpose, usage,\n",
    "#and behavior of the function. They serve as a form of documentation that can be accessed by other developers or users of the function.\n",
    "#Docstrings are enclosed in triple quotes (either single or double)\n",
    "#and are placed immediately below the function definition. They can be accessed using the `__doc__` attribute of the function.\n",
    "def add_numbers(a, b):\n",
    "  #  \"\"\"Adds two numbers and returns the result.\"\"\"\n",
    "    return a + b"
   ]
  },
  {
   "cell_type": "code",
   "execution_count": 48,
   "id": "1dee8fc9-0157-47d2-b0c0-0f55f1300310",
   "metadata": {},
   "outputs": [],
   "source": [
    "#Describe some best practices for naming functions and variables in Python, including naming conventions and guidelines."
   ]
  },
  {
   "cell_type": "code",
   "execution_count": null,
   "id": "f9801843-57d2-4eb3-b4ea-1ec4563af606",
   "metadata": {},
   "outputs": [],
   "source": [
    "#- Use descriptive names: Choose names that accurately describe the purpose or behavior of the function or variable. This makes the code more readable and easier to understand.\n",
    "\n",
    "- Follow naming conventions: Python has a set of naming conventions that are widely followed by the community. For functions and variables, use lowercase letters and separate words with underscores. For example, `calculate_average`, `total_amount`.\n",
    "\n",
    "- Avoid using reserved words: Do not use reserved words or built-in functions as function or variable names, as it can lead to conflicts and confusion. For example, avoid using names like `print`, `str`, `list`, etc.\n",
    "\n",
    "- Use noun or verb-noun naming for functions: Ideally, function names should be descriptive nouns or verb-noun combinations. This helps convey the purpose or action of the function. For example, `calculate_average`, `get_user_details`, `print_report`.\n",
    "\n",
    "- Be consistent: Maintain consistency in naming conventions throughout your codebase. This makes the code more cohesive and easier to read and understand.\n",
    "\n",
    "- Use meaningful variable names: Similar to functions, variables should have meaningful names that indicate their purpose or the value they hold. Avoid using single-letter variable names (except for counters or loop variables) as they can be ambiguous.\n",
    "\n",
    "- Avoid abbreviations and acronyms: While brevity is important, it's better to use descriptive names instead of abbreviations or acronyms that may not be easily understood by others reading your code."
   ]
  }
 ],
 "metadata": {
  "kernelspec": {
   "display_name": "Python 3 (ipykernel)",
   "language": "python",
   "name": "python3"
  },
  "language_info": {
   "codemirror_mode": {
    "name": "ipython",
    "version": 3
   },
   "file_extension": ".py",
   "mimetype": "text/x-python",
   "name": "python",
   "nbconvert_exporter": "python",
   "pygments_lexer": "ipython3",
   "version": "3.10.8"
  }
 },
 "nbformat": 4,
 "nbformat_minor": 5
}
